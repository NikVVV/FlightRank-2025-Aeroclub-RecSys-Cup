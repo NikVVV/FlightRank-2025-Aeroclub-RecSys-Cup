{
 "cells": [
  {
   "cell_type": "code",
   "execution_count": 1,
   "id": "abc47a27",
   "metadata": {},
   "outputs": [
    {
     "name": "stderr",
     "output_type": "stream",
     "text": [
      "C:\\Users\\1tiii\\AppData\\Local\\Temp\\ipykernel_4708\\913019004.py:22: DeprecationWarning: the `streaming` parameter was deprecated in 1.25.0; use `engine` instead.\n",
      "  .collect(streaming=True)    # constant-memory execution\n"
     ]
    }
   ],
   "source": [
    "import pyarrow.parquet as pq\n",
    "import pandas as pd\n",
    "import polars as pl\n",
    "import datetime\n",
    "from polars.datatypes import (\n",
    "    Boolean, UInt8, UInt16, UInt32, UInt64, Utf8,\n",
    "    Int8, Int16, Int32, Int64,\n",
    "    Float32, Float64\n",
    ")\n",
    "from polars.datatypes import Utf8, Datetime, Date, Time\n",
    "import xgboost as xgb\n",
    "import numpy as np\n",
    "import xgboost as xgb\n",
    "from sklearn.model_selection import GroupKFold\n",
    "from sklearn.metrics import ndcg_score\n",
    "from geopy.distance import geodesic\n",
    "from src.utils.utils import evaluate_feature\n",
    "from src.train_new_base import train_base_model\n",
    "rows = (\n",
    "    pl.scan_parquet(\"data/train.parquet\")        # or scan_parquet/scan_ndjson/…\n",
    "      .select(pl.len())           # len() == COUNT(*)\n",
    "      .collect(streaming=True)    # constant-memory execution\n",
    "      .item()                     # get the scalar\n",
    ")\n",
    "from src.metric import hitrate_at_3"
   ]
  },
  {
   "cell_type": "code",
   "execution_count": 2,
   "id": "0f7f28db",
   "metadata": {},
   "outputs": [],
   "source": [
    "data = pl.read_parquet(\"data/clean_data_cut.parquet\")"
   ]
  },
  {
   "cell_type": "code",
   "execution_count": 3,
   "id": "c958277f",
   "metadata": {},
   "outputs": [],
   "source": [
    "feature_cols = ['company_count', 'company_freq', 'totalPrice', 'route_distance_km', 'frequentFlyer_n_programs', 'unique_ranker_count', 'hour_sin', \n",
    "                'hour_cos', 'wday_sin', 'wday_cos', 'twoway_route', 'avg_oneway_price', 'total_duration_hours_leg0', 'total_duration_hours_leg1', 'legs0_segments0_aircraft_code_freq',\n",
    "                'legs1_segments0_aircraft_code_freq', 'frequentFlyer', 'isVip', 'miniRules0_monetaryAmount', 'miniRules0_percentage',\n",
    "                'miniRules1_monetaryAmount', 'miniRules1_percentage', 'sex', 'total_segments_count', 'legs0_num_segments', 'legs1_num_segments', 'tariff_code_filled', 'nationality_cat', 'miniRules0_statusInfos',\n",
    "                'miniRules1_statusInfos', 'pricingInfo_isAccessTP', 'legs0_departureAt_period', 'legs0_arrivalAt_period', 'legs1_departureAt_period', 'legs1_arrivalAt_period',\n",
    "                'legs0_segments0_baggageAllowance_quantity_kg', 'legs1_segments0_baggageAllowance_quantity_kg', 'legs0_segments0_cabinClass_cat', 'legs1_segments0_cabinClass_cat']\n",
    "FEATURE_COLUMNS_V1 = [\n",
    "    # 1-2. Пересадки\n",
    "    \"layover_hours_leg0\",\n",
    "    \"layover_hours_leg1\",\n",
    "\n",
    "    # 3. Сколько часов до вылёта\n",
    "    \"days_before_flight_leg0\",\n",
    "\n",
    "    # 4 + 6. Смена аэропорта внутри одной ноги\n",
    "    \"legs0_airport_changes_count\",\n",
    "    \"legs1_airport_changes_count\",\n",
    "\n",
    "    # 5. Ночная пересадка\n",
    "    \"night_layover_leg0\",\n",
    "    \"night_layover_leg1\",\n",
    "\n",
    "    # 7 + 11. Одна ли авиакомпания-оператор\n",
    "    \"same_operator_carrier_leg0\",\n",
    "    \"same_operator_carrier_leg1\",\n",
    "\n",
    "    # 8. Участие билета в программе лояльности\n",
    "    \"ticket_is_in_FFprogramms_leg0\",\n",
    "    \"ticket_is_in_FFprogramms_leg1\",\n",
    "\n",
    "    # 9. Ранг по цене\n",
    "    \"totalPrice_rank\",\n",
    "\n",
    "    # 10. Ранг по общему времени перелёта\n",
    "    \"totalTime_hours_ranked\",\n",
    "\n",
    "    # 12. Согласованность багажа\n",
    "    \"baggage_kg_equal_flag\",\n",
    "    \"baggage_units_equal_flag\",\n",
    "\n",
    "    # 13. Сколько билетов показано в поисковой сессии\n",
    "    \"tickets_in_session\",\n",
    "\n",
    "    # 14. Метрики оставшихся билетов\n",
    "    \"remainingTickets_avg\",\n",
    "    \"remainingTickets_rank\",\n",
    "\n",
    "    # 15. Частота покупок пользователя\n",
    "    \"user_search_freq\",\n",
    "\n",
    "    # 16. Доля совпадений оператор-продавец\n",
    "    \"operator_marketer_match_rate\",\n",
    "\n",
    "    # 17. Билет ≤ 20 % дороже минимального\n",
    "    \"within_20pct_of_min\",\n",
    "\n",
    "    # 18. День недели вылета (синус/косинус)\n",
    "    \"leg0_depday_sin\", \"leg1_depday_sin\",\n",
    "    \"leg0_depday_cos\", \"leg1_depday_cos\",\n",
    "\n",
    "    # 19. День недели прилёта (синус/косинус)\n",
    "    \"leg0_arrday_sin\", \"leg1_arrday_sin\",\n",
    "    \"leg0_arrday_cos\", \"leg1_arrday_cos\",\n",
    "\n",
    "    # 20. Комплексная «оптимальность» билета\n",
    "    \"opt_ticket_score\",\n",
    "]\n",
    "FEATURE_COLUMNS_V2 = [\n",
    "    # Cчётчики сегментов и направления\n",
    "    \"n_segments_leg0\",\n",
    "    \"n_segments_leg1\",\n",
    "    \"is_one_way\",\n",
    "    \"total_segments\",\n",
    "    \"is_direct_leg0\",\n",
    "    \"is_direct_leg1\",\n",
    "    \"both_direct\",\n",
    "\n",
    "    # Стоимость, налоги, сборы\n",
    "    \"price_per_tax\",\n",
    "    \"tax_rate\",\n",
    "    \"log_price\",\n",
    "    \"total_fees\",\n",
    "    \"has_fees\",\n",
    "    \"fee_rate\",\n",
    "\n",
    "    # Продолжительности\n",
    "    \"duration_ratio\",\n",
    "\n",
    "    # Тарифы и привилегии\n",
    "    \"has_corporate_tariff\",\n",
    "    \"has_access_tp\",\n",
    "    \"n_ff_programs\",\n",
    "    \"is_vip_freq\",\n",
    "\n",
    "    # Класс обслуживания\n",
    "    \"avg_cabin_class\",\n",
    "    \"cabin_class_diff\",\n",
    "\n",
    "    # Популярные маршруты\n",
    "    \"is_popular_route\",\n",
    "\n",
    "    # Относительные метрики цены и сегментов внутри поиска\n",
    "    \"price_pct_rank\",\n",
    "    \"is_cheapest\",\n",
    "    \"price_from_median\",\n",
    "    \"is_min_segments\",\n",
    "    \"is_direct_cheapest\",\n",
    "]\n",
    "cat_feat_add = [\n",
    "    'legs0_segments0_aircraft_code', 'legs0_segments0_arrivalTo_airport_city_iata',\n",
    "    'legs0_segments0_arrivalTo_airport_iata', 'legs0_segments0_departureFrom_airport_iata',\n",
    "    'legs0_segments0_marketingCarrier_code', 'legs0_segments0_operatingCarrier_code',\n",
    "    'legs0_segments0_flightNumber',\n",
    "    'legs0_segments1_aircraft_code', 'legs0_segments1_arrivalTo_airport_city_iata',\n",
    "    'legs0_segments1_arrivalTo_airport_iata', 'legs0_segments1_departureFrom_airport_iata',\n",
    "    'legs0_segments1_marketingCarrier_code', 'legs0_segments1_operatingCarrier_code',\n",
    "    'legs0_segments1_flightNumber',\n",
    "    # Leg 1 segments 0-1\n",
    "    'legs1_segments0_aircraft_code', 'legs1_segments0_arrivalTo_airport_city_iata',\n",
    "    'legs1_segments0_arrivalTo_airport_iata', 'legs1_segments0_departureFrom_airport_iata',\n",
    "    'legs1_segments0_marketingCarrier_code', 'legs1_segments0_operatingCarrier_code',\n",
    "    'legs1_segments0_flightNumber',\n",
    "    'legs1_segments1_aircraft_code', 'legs1_segments1_arrivalTo_airport_city_iata',\n",
    "    'legs1_segments1_arrivalTo_airport_iata', 'legs1_segments1_departureFrom_airport_iata',\n",
    "    'legs1_segments1_marketingCarrier_code', 'legs1_segments1_operatingCarrier_code',\n",
    "    'legs1_segments1_flightNumber',\n",
    "]\n",
    "\n",
    "feature_list = feature_cols + FEATURE_COLUMNS_V1 + FEATURE_COLUMNS_V2 + cat_feat_add\n",
    "cat_features_final = ['tariff_code_filled', 'nationality_cat', 'legs0_departureAt_period', 'legs0_arrivalAt_period',\n",
    "                      'legs1_departureAt_period', 'legs1_arrivalAt_period', 'legs0_segments0_cabinClass_cat', 'legs1_segments0_cabinClass_cat', 'frequentFlyer'] + cat_feat_add\n",
    "#feature_cols = ['totalPrice']\n",
    "#cat_features_final = []\n",
    "#X = data.select(feature_cols)\n",
    "#y = data.select(\"selected\")            # Polars DataFrame with 1 col\n",
    "#groups = data.select(\"ranker_id\")      # Polars DataFrame with 1 col\n",
    "n2 = rows\n",
    "\n",
    "# 5. Set params to use pairwise ranking + ndcg@3 + histogram tree builder\n",
    "params = {\n",
    "    \"objective\":   \"rank:pairwise\",\n",
    "    \"eval_metric\": \"ndcg@3\",\n",
    "    \"tree_method\": \"hist\",      # 🔥 much faster\n",
    "    \"seed\":        42,\n",
    "    \"n_jobs\":      -1,\n",
    "    'eta': 0.21097440411031887,\n",
    "    'max_depth': 11,\n",
    "    'min_child_weight': 14,\n",
    "    'subsample': 0.9941042210100538,\n",
    "    'colsample_bytree': 0.6866804869216795,\n",
    "    'gamma': 1.7235898102326062,\n",
    "    'lambda': 1.0938350888836036e-05,\n",
    "    'alpha': 0.23093425602077636,\n",
    "    'num_boost_round': 1200,\n",
    "    'device':'cuda'\n",
    "}\n"
   ]
  },
  {
   "cell_type": "code",
   "execution_count": 5,
   "id": "24e5676c",
   "metadata": {},
   "outputs": [
    {
     "name": "stdout",
     "output_type": "stream",
     "text": [
      "mean top@3 -  0.4192\n",
      "std top@3 -  0.0027\n",
      "mean ndcg@3 -  0.3848\n",
      "std ndcg@3 -  0.002\n"
     ]
    }
   ],
   "source": [
    "cv_stats = pd.read_csv('model/cv_results.csv')\n",
    "print('mean top@3 - ', round(cv_stats['val-top@3'].mean(), 4))\n",
    "print('std top@3 - ', round(cv_stats['val-top@3'].std(), 4))\n",
    "print('mean ndcg@3 - ', round(cv_stats['val-ndcg@3'].mean(), 4))\n",
    "print('std ndcg@3 - ', round(cv_stats['val-ndcg@3'].std(), 4))"
   ]
  },
  {
   "cell_type": "code",
   "execution_count": 5,
   "id": "39834948",
   "metadata": {},
   "outputs": [],
   "source": [
    "feature_list = ['totalPrice', 'ranker_id', 'selected', 'company_count', 'route_distance_km', 'frequentFlyer_n_programs', 'unique_ranker_count']"
   ]
  },
  {
   "cell_type": "code",
   "execution_count": null,
   "id": "5d078ecc",
   "metadata": {},
   "outputs": [
    {
     "name": "stdout",
     "output_type": "stream",
     "text": [
      "top@3 before -  0.2258  top@3 after -  0.2237\n",
      "ndcg@3 before -  0.2622  top@3 after -  0.2614\n",
      "mean top@3 -  0.2239\n",
      "std top@3 -  0.003\n",
      "mean ndcg@3 -  0.2621\n",
      "std ndcg@3 -  0.0012\n"
     ]
    },
    {
     "data": {
      "text/plain": [
       "{'corr': np.float64(0.005832222368000487),\n",
       " 'warm_delta': np.float64(-0.0021618937392779147),\n",
       " 'mini_delta': None}"
      ]
     },
     "execution_count": 46,
     "metadata": {},
     "output_type": "execute_result"
    }
   ],
   "source": [
    "top_sigma = np.std(pd.read_csv('model/cv_results.csv')['val-top@3']), np.mean(pd.read_csv('model/cv_results.csv')['val-top@3'])\n",
    "meta, df = evaluate_feature(data[:n2][feature_list], \n",
    "                       new_feature_name='unique_ranker_count', \n",
    "                       group_col='ranker_id', \n",
    "                       label_col='selected', \n",
    "                       baseline_model='model/base.json', \n",
    "                       params=params, \n",
    "                       sigma0=top_sigma[1],\n",
    "                       corr_threshold=0.00,\n",
    "                       cat_features_final=cat_features_final)\n",
    "meta"
   ]
  },
  {
   "cell_type": "code",
   "execution_count": 47,
   "id": "320ea251",
   "metadata": {},
   "outputs": [
    {
     "name": "stdout",
     "output_type": "stream",
     "text": [
      "accepted by ncdg3\n"
     ]
    }
   ],
   "source": [
    "if round(cv_stats['val-top@3'].mean(), 4) < round(df['val-top@3'].mean(), 4):\n",
    "    print('accepted by top@3')\n",
    "if round(cv_stats['val-ndcg@3'].mean(), 4)  < round(df['val-ndcg@3'].mean(), 4):\n",
    "    print('accepted by ncdg3')"
   ]
  },
  {
   "cell_type": "code",
   "execution_count": 43,
   "id": "fcf71f63",
   "metadata": {},
   "outputs": [],
   "source": [
    "df.to_pandas().to_csv('model/cv_results.csv')"
   ]
  },
  {
   "cell_type": "code",
   "execution_count": 4,
   "id": "e07abf7d",
   "metadata": {},
   "outputs": [
    {
     "name": "stderr",
     "output_type": "stream",
     "text": [
      "d:\\Work\\FlightRank 2025 Aeroclub RecSys Cup\\.venv\\Lib\\site-packages\\xgboost\\training.py:183: UserWarning: [15:40:01] WARNING: C:\\actions-runner\\_work\\xgboost\\xgboost\\src\\learner.cc:738: \n",
      "Parameters: { \"num_boost_round\" } are not used.\n",
      "\n",
      "  bst.update(dtrain, iteration=i, fobj=obj)\n"
     ]
    },
    {
     "name": "stdout",
     "output_type": "stream",
     "text": [
      "[0]\ttrain-ndcg@3:0.35275\tval-ndcg@3:0.31621\n",
      "[100]\ttrain-ndcg@3:0.64204\tval-ndcg@3:0.44954\n",
      "[200]\ttrain-ndcg@3:0.73916\tval-ndcg@3:0.44954\n",
      "[300]\ttrain-ndcg@3:0.82917\tval-ndcg@3:0.48889\n",
      "[400]\ttrain-ndcg@3:0.84049\tval-ndcg@3:0.50544\n",
      "[500]\ttrain-ndcg@3:0.84049\tval-ndcg@3:0.50544\n",
      "[600]\ttrain-ndcg@3:0.84220\tval-ndcg@3:0.49592\n",
      "[700]\ttrain-ndcg@3:0.87978\tval-ndcg@3:0.51270\n",
      "[800]\ttrain-ndcg@3:0.88120\tval-ndcg@3:0.51270\n",
      "[900]\ttrain-ndcg@3:0.88335\tval-ndcg@3:0.51394\n",
      "[1000]\ttrain-ndcg@3:0.88404\tval-ndcg@3:0.51043\n",
      "[1100]\ttrain-ndcg@3:0.88404\tval-ndcg@3:0.51043\n",
      "[1199]\ttrain-ndcg@3:0.88404\tval-ndcg@3:0.51043\n"
     ]
    }
   ],
   "source": [
    "data_xgb=data[:n2] \n",
    "features=feature_list \n",
    "label_col='selected' \n",
    "group_col='ranker_id' \n",
    "params=params\n",
    "num_boost_round=1200\n",
    "baseline_model_path='model/'\n",
    "seed=42\n",
    "verbose_eval_size=100\n",
    "full_cv = False\n",
    "cat_features_final=cat_features_final\n",
    "def get_group_sizes(ranker_ids: np.ndarray) -> np.ndarray:\n",
    "    # unique in order of first appearance + their counts\n",
    "    uniq, idx, counts = np.unique(ranker_ids, return_index=True, return_counts=True)\n",
    "    return counts[np.argsort(idx)]\n",
    "data_xgb = data[:n2].with_columns([\n",
    "                            (pl.col(c).rank(\"dense\") - 1)\n",
    "                            .fill_null(-1)\n",
    "                            .cast(pl.Int32)\n",
    "                            .alias(c)\n",
    "                            for c in cat_features_final\n",
    "                        ])\n",
    "rng = np.random.default_rng(seed=seed)\n",
    "groups = data_xgb.select('ranker_id').unique().to_numpy().ravel()\n",
    "val_groups = rng.choice(groups, size=max(1, int(0.001 * len(groups))), replace=False)\n",
    "val_df = data_xgb.filter(pl.col('ranker_id').is_in(val_groups))\n",
    "train_df = data_xgb.filter(~pl.col('ranker_id').is_in(val_groups))\n",
    "\n",
    "\n",
    "y_val        = val_df.select(label_col).to_numpy().ravel()\n",
    "y_train        = train_df.select(label_col).to_numpy().ravel()\n",
    "\n",
    "feature_cols_all = [c for c in features if c not in {label_col, group_col}]\n",
    "\n",
    "dtrain = xgb.DMatrix(train_df.select(feature_cols_all).to_numpy(),\n",
    "                        label=y_train,\n",
    "                        group=get_group_sizes(train_df.select(group_col)),\n",
    "                        feature_names=feature_cols_all)\n",
    "\n",
    "dval = xgb.DMatrix(val_df.select(feature_cols_all).to_numpy(),\n",
    "                        label=y_val,\n",
    "                        group=get_group_sizes(val_df.select(group_col)),\n",
    "                        feature_names=feature_cols_all)\n",
    "\n",
    "tiny_model = xgb.train(\n",
    "    params,\n",
    "    dtrain,\n",
    "    #early_stopping_rounds=100,\n",
    "    evals=[(dtrain, 'train'), (dval, 'val')],\n",
    "    num_boost_round=num_boost_round,\n",
    "    verbose_eval=100,\n",
    ")"
   ]
  },
  {
   "cell_type": "code",
   "execution_count": 5,
   "id": "8be7b5d5",
   "metadata": {},
   "outputs": [
    {
     "ename": "NameError",
     "evalue": "name 'tiny_model' is not defined",
     "output_type": "error",
     "traceback": [
      "\u001b[31m---------------------------------------------------------------------------\u001b[39m",
      "\u001b[31mNameError\u001b[39m                                 Traceback (most recent call last)",
      "\u001b[36mCell\u001b[39m\u001b[36m \u001b[39m\u001b[32mIn[5]\u001b[39m\u001b[32m, line 1\u001b[39m\n\u001b[32m----> \u001b[39m\u001b[32m1\u001b[39m preds = \u001b[43mtiny_model\u001b[49m.predict(dval)\n",
      "\u001b[31mNameError\u001b[39m: name 'tiny_model' is not defined"
     ]
    }
   ],
   "source": [
    "preds = tiny_model.predict(dval)"
   ]
  },
  {
   "cell_type": "code",
   "execution_count": 5,
   "id": "7d27a5a3",
   "metadata": {},
   "outputs": [],
   "source": [
    "xgb_importance = tiny_model.get_score(importance_type='gain')\n",
    "xgb_importance_df = pl.DataFrame(\n",
    "    [{'feature': k, 'importance': v} for k, v in xgb_importance.items()]\n",
    ").sort('importance', descending=bool(1))"
   ]
  },
  {
   "cell_type": "code",
   "execution_count": 9,
   "id": "e715cb61",
   "metadata": {},
   "outputs": [],
   "source": [
    "score = hitrate_at_3(dval.get_label(), preds, val_df.select(group_col).to_series().to_numpy())"
   ]
  },
  {
   "cell_type": "code",
   "execution_count": 10,
   "id": "2f7dd5bd",
   "metadata": {},
   "outputs": [
    {
     "data": {
      "text/plain": [
       "0.6524184346199036"
      ]
     },
     "execution_count": 10,
     "metadata": {},
     "output_type": "execute_result"
    }
   ],
   "source": [
    "score"
   ]
  },
  {
   "cell_type": "code",
   "execution_count": null,
   "id": "bf55ebea",
   "metadata": {},
   "outputs": [
    {
     "name": "stderr",
     "output_type": "stream",
     "text": [
      "d:\\Work\\FlightRank 2025 Aeroclub RecSys Cup\\.venv\\Lib\\site-packages\\xgboost\\training.py:183: UserWarning: [13:14:50] WARNING: C:\\actions-runner\\_work\\xgboost\\xgboost\\src\\learner.cc:738: \n",
      "Parameters: { \"num_boost_round\" } are not used.\n",
      "\n",
      "  bst.update(dtrain, iteration=i, fobj=obj)\n"
     ]
    },
    {
     "name": "stdout",
     "output_type": "stream",
     "text": [
      "0.4694783687591553\n"
     ]
    }
   ],
   "source": [
    "res = train_base_model(data=data[:n2], \n",
    "                 features=feature_list, \n",
    "                 label_col='selected', \n",
    "                 group_col='ranker_id', \n",
    "                 params=params, \n",
    "                 num_boost_round=1500, \n",
    "                 baseline_model_path='model/', \n",
    "                 seed=42, \n",
    "                 verbose_eval_size=5, \n",
    "                 full_cv = False,\n",
    "                 cat_features_final=cat_features_final)\n",
    "\n",
    "res"
   ]
  },
  {
   "cell_type": "code",
   "execution_count": 5,
   "id": "66981d07",
   "metadata": {},
   "outputs": [],
   "source": [
    "booster = xgb.Booster()\n",
    "booster.load_model('model/base.json')\n",
    "booster = tiny_model"
   ]
  },
  {
   "cell_type": "code",
   "execution_count": 7,
   "id": "3d4c0b23",
   "metadata": {},
   "outputs": [],
   "source": [
    "def get_group_sizes(ranker_ids: np.ndarray) -> np.ndarray:\n",
    "    # unique in order of first appearance + their counts\n",
    "    uniq, idx, counts = np.unique(ranker_ids, return_index=True, return_counts=True)\n",
    "    return counts[np.argsort(idx)]\n",
    "data_xgb = data[n2:].with_columns([\n",
    "                                (pl.col(c).rank(\"dense\") - 1)\n",
    "                                .fill_null(-1)\n",
    "                                .cast(pl.Int32)\n",
    "                                .alias(c)\n",
    "                                for c in cat_features_final\n",
    "                            ])\n",
    "label_col = 'selected'\n",
    "group_col = 'ranker_id'\n",
    "feature_cols_all = feature_list\n",
    "data_test = xgb.DMatrix(data_xgb.select(feature_cols_all).to_numpy(), feature_names=feature_cols_all, group=get_group_sizes(data_xgb.select(group_col)))"
   ]
  },
  {
   "cell_type": "code",
   "execution_count": 8,
   "id": "e454f931",
   "metadata": {},
   "outputs": [],
   "source": [
    "preds = booster.predict(data_test)"
   ]
  },
  {
   "cell_type": "code",
   "execution_count": 9,
   "id": "1fb35eca",
   "metadata": {},
   "outputs": [],
   "source": [
    "test = pl.read_parquet('data/test.parquet')"
   ]
  },
  {
   "cell_type": "code",
   "execution_count": 10,
   "id": "7904efaa",
   "metadata": {},
   "outputs": [],
   "source": [
    "submission_xgb = (\n",
    "    test.select(['Id', 'ranker_id'])\n",
    "    .with_columns(pl.Series('pred_score', preds))\n",
    "    .with_columns(\n",
    "        pl.col('pred_score')\n",
    "        .rank(method='ordinal', descending=True)\n",
    "        .over('ranker_id')\n",
    "        .cast(pl.Int32)\n",
    "        .alias('selected')\n",
    "    )\n",
    "    .select(['Id', 'ranker_id', 'selected', 'pred_score'])\n",
    ")"
   ]
  },
  {
   "cell_type": "code",
   "execution_count": 11,
   "id": "07963157",
   "metadata": {},
   "outputs": [],
   "source": [
    "submission_xgb.write_csv('submission_v4.csv')"
   ]
  },
  {
   "cell_type": "code",
   "execution_count": 4,
   "id": "73a28bc3",
   "metadata": {},
   "outputs": [
    {
     "name": "stderr",
     "output_type": "stream",
     "text": [
      "d:\\Work\\FlightRank 2025 Aeroclub RecSys Cup\\.venv\\Lib\\site-packages\\tqdm\\auto.py:21: TqdmWarning: IProgress not found. Please update jupyter and ipywidgets. See https://ipywidgets.readthedocs.io/en/stable/user_install.html\n",
      "  from .autonotebook import tqdm as notebook_tqdm\n"
     ]
    }
   ],
   "source": [
    "import optuna\n",
    "LABEL_COL = \"selected\"          # binary 1/0 – chosen by the user\n",
    "GROUP_COL = \"ranker_id\"         # search/session id\n",
    "FEATURE_COLUMNS = feature_list\n",
    "CAT_FEATURES_FINAL = cat_features_final\n",
    "def get_group_sizes(ranker_ids: np.ndarray) -> np.ndarray:\n",
    "    \"\"\"Return group‐sizes array for XGBoost ranking.\n",
    "\n",
    "    Parameters\n",
    "    ----------\n",
    "    ranker_ids : np.ndarray\n",
    "        1‑D array with group id (ranker_id) of every row in the same order as X.\n",
    "\n",
    "    Returns\n",
    "    -------\n",
    "    np.ndarray\n",
    "        Array of group sizes, ordered by the first appearance of each id (exactly\n",
    "        what xgb.DMatrix wants for ranking).\n",
    "    \"\"\"\n",
    "    uniq, idx, counts = np.unique(ranker_ids, return_index=True, return_counts=True)\n",
    "    return counts[np.argsort(idx)]\n",
    "def train_single_split(\n",
    "    data_xgb: pl.DataFrame,\n",
    "    params: dict,\n",
    "    num_boost_round: int,\n",
    "    seed: int = 42,\n",
    ") -> float:\n",
    "    \"\"\"Train XGBoost on a random 80/20 group‑based split and return hit@3.\"\"\"\n",
    "\n",
    "    # Ordinal‑encode categorical features ------------------------------------------------\n",
    "\n",
    "\n",
    "    rng = np.random.default_rng(seed)\n",
    "    groups_unique = data_xgb.select(GROUP_COL).unique().to_numpy().ravel()\n",
    "    val_groups = rng.choice(groups_unique, size=max(1, int(0.2 * len(groups_unique))), replace=False)\n",
    "\n",
    "    val_df = data_xgb.filter(pl.col(GROUP_COL).is_in(val_groups))\n",
    "    train_df = data_xgb.filter(~pl.col(GROUP_COL).is_in(val_groups))\n",
    "\n",
    "    feature_cols = [c for c in FEATURE_COLUMNS if c not in {LABEL_COL, GROUP_COL}]\n",
    "\n",
    "    dtrain = xgb.DMatrix(\n",
    "        train_df.select(feature_cols).to_numpy(),\n",
    "        label=train_df.select(LABEL_COL).to_numpy().ravel(),\n",
    "        group=get_group_sizes(train_df.select(GROUP_COL).to_numpy().ravel()),\n",
    "        feature_names=feature_cols,\n",
    "    )\n",
    "\n",
    "    dval = xgb.DMatrix(\n",
    "        val_df.select(feature_cols).to_numpy(),\n",
    "        label=val_df.select(LABEL_COL).to_numpy().ravel(),\n",
    "        group=get_group_sizes(val_df.select(GROUP_COL).to_numpy().ravel()),\n",
    "        feature_names=feature_cols,\n",
    "    )\n",
    "\n",
    "    bst = xgb.train(\n",
    "        params,\n",
    "        dtrain,\n",
    "        num_boost_round=num_boost_round,\n",
    "        evals=[(dval, \"val\")],\n",
    "        early_stopping_rounds=30,\n",
    "        verbose_eval=False,\n",
    "    )\n",
    "\n",
    "    # NDCG@3 produced by XGBoost is geometric mean across groups; for hit@3 we compute manually\n",
    "    preds = bst.predict(dval)\n",
    "\n",
    "    # Hit@3 – at least one correct item in top‑3 per group ------------------\n",
    "    # Reconstruct group slices\n",
    "    ranker_ids = val_df.select(GROUP_COL).to_numpy().ravel()\n",
    "    labels = dval.get_label()\n",
    "    order = np.argsort(ranker_ids, kind=\"stable\")\n",
    "    ranker_ids, labels, preds = ranker_ids[order], labels[order], preds[order]\n",
    "\n",
    "    hit_total, group_total = 0, 0\n",
    "    start = 0\n",
    "    while start < len(ranker_ids):\n",
    "        group = ranker_ids[start]\n",
    "        end = start\n",
    "        while end < len(ranker_ids) and ranker_ids[end] == group:\n",
    "            end += 1\n",
    "        if (end - start) > 10:\n",
    "            group_labels = labels[start:end]\n",
    "            group_preds = preds[start:end]\n",
    "            top3_idx = np.argsort(group_preds)[::-1][:3]\n",
    "            hit_total += int(group_labels[top3_idx].sum() > 0)\n",
    "            group_total += 1\n",
    "        start = end\n",
    "    return hit_total / group_total\n",
    "\n",
    "\n",
    "# ---------------------------------------------------------------------------\n",
    "# Optuna objective ----------------------------------------------------------\n",
    "# ---------------------------------------------------------------------------\n",
    "\n",
    "def objective(trial: optuna.Trial, data: pl.DataFrame) -> float:\n",
    "    params = {\n",
    "        \"objective\": \"rank:pairwise\",\n",
    "        \"eval_metric\": \"ndcg@3\",\n",
    "        \"eta\": trial.suggest_float(\"eta\", 0.01, 0.3, log=True),\n",
    "        \"max_depth\": trial.suggest_int(\"max_depth\", 3, 12),\n",
    "        \"min_child_weight\": trial.suggest_int(\"min_child_weight\", 1, 20),\n",
    "        \"subsample\": trial.suggest_float(\"subsample\", 0.6, 1.0),\n",
    "        \"colsample_bytree\": trial.suggest_float(\"colsample_bytree\", 0.6, 1.0),\n",
    "        \"gamma\": trial.suggest_float(\"gamma\", 0.0, 5.0),\n",
    "        \"lambda\": trial.suggest_float(\"lambda\", 1e-8, 10.0, log=True),\n",
    "        \"alpha\": trial.suggest_float(\"alpha\", 1e-8, 10.0, log=True),\n",
    "        \"tree_method\": \"hist\",\n",
    "        \"max_bin\": 128,\n",
    "        \"seed\": 42,\n",
    "        'device': 'cuda'\n",
    "    }\n",
    "\n",
    "    num_boost_round = trial.suggest_int(\"num_boost_round\", 300, 1500, step=100)\n",
    "    data_xgb = data.with_columns([\n",
    "    (pl.col(c).rank(\"dense\") - 1)  # rank starts at 1 → shift to 0\n",
    "    .fill_null(-1)\n",
    "    .cast(pl.Int32)\n",
    "    .alias(c)\n",
    "    for c in CAT_FEATURES_FINAL\n",
    "    ])\n",
    "    hit_at_3 = train_single_split(\n",
    "        data_xgb=data_xgb,\n",
    "        params=params,\n",
    "        num_boost_round=num_boost_round,\n",
    "        seed=42,\n",
    "    )\n",
    "\n",
    "    return hit_at_3  # maximise\n",
    "\n"
   ]
  },
  {
   "cell_type": "code",
   "execution_count": 5,
   "id": "c73cec4c",
   "metadata": {},
   "outputs": [],
   "source": [
    "from pathlib import Path\n",
    "import optuna\n",
    "store_dir = Path(\"optuna_results\")\n",
    "store_dir.mkdir(parents=True, exist_ok=True)\n",
    "\n",
    "# 2) делаем корректный абсолютный URI\n",
    "storage_uri = f\"sqlite:///{(store_dir / 'study.db').resolve()}\""
   ]
  },
  {
   "cell_type": "code",
   "execution_count": null,
   "id": "6700e4d9",
   "metadata": {},
   "outputs": [],
   "source": [
    "# 3) создаём или открываем Study\n",
    "study = optuna.create_study(\n",
    "    study_name=\"xgb_search\",\n",
    "    direction=\"maximize\",\n",
    "    storage=storage_uri,\n",
    "    load_if_exists=True\n",
    ")"
   ]
  },
  {
   "cell_type": "code",
   "execution_count": 6,
   "id": "4e6c3c01",
   "metadata": {},
   "outputs": [],
   "source": [
    "study = optuna.load_study(\n",
    "    study_name = \"xgb_search\",\n",
    "    storage    = storage_uri\n",
    ")"
   ]
  },
  {
   "cell_type": "code",
   "execution_count": 7,
   "id": "064c82d5",
   "metadata": {},
   "outputs": [
    {
     "name": "stderr",
     "output_type": "stream",
     "text": [
      "Best trial: 4. Best value: 0.543184:   2%|▏         | 1/50 [02:05<1:42:41, 125.75s/it]"
     ]
    },
    {
     "name": "stdout",
     "output_type": "stream",
     "text": [
      "[I 2025-07-31 15:11:50,446] Trial 8 finished with value: 0.4662334777296457 and parameters: {'eta': 0.054089595287261844, 'max_depth': 8, 'min_child_weight': 10, 'subsample': 0.7565366851178921, 'colsample_bytree': 0.9452070555978844, 'gamma': 3.1517328032733167, 'lambda': 2.9844649491816266e-07, 'alpha': 0.006713227456176927, 'num_boost_round': 300}. Best is trial 4 with value: 0.5431843575418994.\n"
     ]
    },
    {
     "name": "stderr",
     "output_type": "stream",
     "text": [
      "Best trial: 4. Best value: 0.543184:   4%|▍         | 2/50 [04:50<1:58:55, 148.65s/it]"
     ]
    },
    {
     "name": "stdout",
     "output_type": "stream",
     "text": [
      "[I 2025-07-31 15:14:35,136] Trial 9 finished with value: 0.45340401785714285 and parameters: {'eta': 0.0320284992549291, 'max_depth': 6, 'min_child_weight': 6, 'subsample': 0.7204405189364425, 'colsample_bytree': 0.7958177859102721, 'gamma': 0.608829736013396, 'lambda': 0.00010011110392002817, 'alpha': 0.005916200202277913, 'num_boost_round': 600}. Best is trial 4 with value: 0.5431843575418994.\n"
     ]
    },
    {
     "name": "stderr",
     "output_type": "stream",
     "text": [
      "Best trial: 4. Best value: 0.543184:   6%|▌         | 3/50 [07:16<1:55:35, 147.57s/it]"
     ]
    },
    {
     "name": "stdout",
     "output_type": "stream",
     "text": [
      "[I 2025-07-31 15:17:01,410] Trial 10 finished with value: 0.47411777802515864 and parameters: {'eta': 0.17529212513767822, 'max_depth': 5, 'min_child_weight': 9, 'subsample': 0.7938616749364508, 'colsample_bytree': 0.9590306958501253, 'gamma': 4.46323441898894, 'lambda': 0.2115451133027719, 'alpha': 0.01017524009021287, 'num_boost_round': 1300}. Best is trial 4 with value: 0.5431843575418994.\n"
     ]
    },
    {
     "name": "stderr",
     "output_type": "stream",
     "text": [
      "Best trial: 4. Best value: 0.543184:   8%|▊         | 4/50 [08:08<1:24:06, 109.70s/it]"
     ]
    },
    {
     "name": "stdout",
     "output_type": "stream",
     "text": [
      "[I 2025-07-31 15:17:53,136] Trial 11 finished with value: 0.38417322395222947 and parameters: {'eta': 0.020700655209104434, 'max_depth': 6, 'min_child_weight': 20, 'subsample': 0.9704843297697588, 'colsample_bytree': 0.9432714376950468, 'gamma': 4.963358092742362, 'lambda': 5.835599300879498, 'alpha': 2.994447468599529e-05, 'num_boost_round': 300}. Best is trial 4 with value: 0.5431843575418994.\n"
     ]
    },
    {
     "name": "stderr",
     "output_type": "stream",
     "text": [
      "Best trial: 12. Best value: 0.562081:  10%|█         | 5/50 [09:55<1:21:33, 108.75s/it]"
     ]
    },
    {
     "name": "stdout",
     "output_type": "stream",
     "text": [
      "[I 2025-07-31 15:19:40,151] Trial 12 finished with value: 0.5620812862885216 and parameters: {'eta': 0.2713322362860683, 'max_depth': 12, 'min_child_weight': 1, 'subsample': 0.9003033337492424, 'colsample_bytree': 0.6264713043381429, 'gamma': 2.271616000943315, 'lambda': 3.3617174705593664e-08, 'alpha': 3.856122179288259, 'num_boost_round': 900}. Best is trial 12 with value: 0.5620812862885216.\n"
     ]
    },
    {
     "name": "stderr",
     "output_type": "stream",
     "text": [
      "Best trial: 12. Best value: 0.562081:  12%|█▏        | 6/50 [11:29<1:16:05, 103.75s/it]"
     ]
    },
    {
     "name": "stdout",
     "output_type": "stream",
     "text": [
      "[I 2025-07-31 15:21:14,210] Trial 13 finished with value: 0.5540683732084101 and parameters: {'eta': 0.2872260842966097, 'max_depth': 12, 'min_child_weight': 1, 'subsample': 0.8977515535078602, 'colsample_bytree': 0.6304803694467846, 'gamma': 2.4643971147913613, 'lambda': 1.2484361732743704e-08, 'alpha': 6.104132168523236, 'num_boost_round': 1500}. Best is trial 12 with value: 0.5620812862885216.\n"
     ]
    },
    {
     "name": "stderr",
     "output_type": "stream",
     "text": [
      "Best trial: 12. Best value: 0.562081:  14%|█▍        | 7/50 [13:30<1:18:24, 109.40s/it]"
     ]
    },
    {
     "name": "stdout",
     "output_type": "stream",
     "text": [
      "[I 2025-07-31 15:23:15,232] Trial 14 finished with value: 0.5428714412811388 and parameters: {'eta': 0.29415708903682625, 'max_depth': 10, 'min_child_weight': 1, 'subsample': 0.8956856424839637, 'colsample_bytree': 0.6037125758118901, 'gamma': 2.4994054703232487, 'lambda': 1.4499523533667203e-08, 'alpha': 7.9739094962389325, 'num_boost_round': 1500}. Best is trial 12 with value: 0.5620812862885216.\n"
     ]
    },
    {
     "name": "stderr",
     "output_type": "stream",
     "text": [
      "Best trial: 12. Best value: 0.562081:  16%|█▌        | 8/50 [15:35<1:20:08, 114.49s/it]"
     ]
    },
    {
     "name": "stdout",
     "output_type": "stream",
     "text": [
      "[I 2025-07-31 15:25:20,658] Trial 15 finished with value: 0.5493961150999054 and parameters: {'eta': 0.2858193348280146, 'max_depth': 10, 'min_child_weight': 4, 'subsample': 0.8982564777838123, 'colsample_bytree': 0.6105286184222108, 'gamma': 2.4798772576540773, 'lambda': 1.5817695489804202e-08, 'alpha': 6.834227828244898, 'num_boost_round': 900}. Best is trial 12 with value: 0.5620812862885216.\n"
     ]
    },
    {
     "name": "stderr",
     "output_type": "stream",
     "text": [
      "Best trial: 12. Best value: 0.562081:  18%|█▊        | 9/50 [17:53<1:23:08, 121.68s/it]"
     ]
    },
    {
     "name": "stdout",
     "output_type": "stream",
     "text": [
      "[I 2025-07-31 15:27:38,112] Trial 16 finished with value: 0.5368632707774799 and parameters: {'eta': 0.16333806254628663, 'max_depth': 10, 'min_child_weight': 4, 'subsample': 0.8905474836085736, 'colsample_bytree': 0.6749431070677041, 'gamma': 3.2706149415610692, 'lambda': 0.000947496063024176, 'alpha': 0.29170620064939495, 'num_boost_round': 1000}. Best is trial 12 with value: 0.5620812862885216.\n"
     ]
    },
    {
     "name": "stderr",
     "output_type": "stream",
     "text": [
      "Best trial: 17. Best value: 0.562658:  20%|██        | 10/50 [20:10<1:24:20, 126.50s/it]"
     ]
    },
    {
     "name": "stdout",
     "output_type": "stream",
     "text": [
      "[I 2025-07-31 15:29:55,370] Trial 17 finished with value: 0.5626575541986444 and parameters: {'eta': 0.21097440411031887, 'max_depth': 11, 'min_child_weight': 14, 'subsample': 0.9941042210100538, 'colsample_bytree': 0.6866804869216795, 'gamma': 1.7235898102326062, 'lambda': 1.0938350888836036e-05, 'alpha': 0.23093425602077636, 'num_boost_round': 1200}. Best is trial 17 with value: 0.5626575541986444.\n"
     ]
    },
    {
     "name": "stderr",
     "output_type": "stream",
     "text": [
      "Best trial: 17. Best value: 0.562658:  22%|██▏       | 11/50 [22:27<1:24:13, 129.59s/it]"
     ]
    },
    {
     "name": "stdout",
     "output_type": "stream",
     "text": [
      "[I 2025-07-31 15:32:11,949] Trial 18 finished with value: 0.5622633103141012 and parameters: {'eta': 0.12975503016044343, 'max_depth': 11, 'min_child_weight': 15, 'subsample': 0.9891604903333733, 'colsample_bytree': 0.6856003097753048, 'gamma': 1.939637792800385, 'lambda': 0.0009081994817525512, 'alpha': 0.2061072333494555, 'num_boost_round': 1200}. Best is trial 17 with value: 0.5626575541986444.\n"
     ]
    },
    {
     "name": "stderr",
     "output_type": "stream",
     "text": [
      "Best trial: 17. Best value: 0.562658:  24%|██▍       | 12/50 [26:04<1:38:57, 156.24s/it]"
     ]
    },
    {
     "name": "stdout",
     "output_type": "stream",
     "text": [
      "[I 2025-07-31 15:35:49,165] Trial 19 finished with value: 0.5353529738743746 and parameters: {'eta': 0.11578251152816867, 'max_depth': 9, 'min_child_weight': 16, 'subsample': 0.9966829269297759, 'colsample_bytree': 0.7041730959875934, 'gamma': 1.6355592802491676, 'lambda': 0.002978943506440341, 'alpha': 0.06258517851942154, 'num_boost_round': 1200}. Best is trial 17 with value: 0.5626575541986444.\n"
     ]
    },
    {
     "name": "stderr",
     "output_type": "stream",
     "text": [
      "Best trial: 17. Best value: 0.562658:  24%|██▍       | 12/50 [26:12<1:22:59, 131.03s/it]\n"
     ]
    },
    {
     "name": "stdout",
     "output_type": "stream",
     "text": [
      "[W 2025-07-31 15:35:57,191] Trial 20 failed with parameters: {'eta': 0.1296035972621578, 'max_depth': 11, 'min_child_weight': 16, 'subsample': 0.6675234480457631, 'colsample_bytree': 0.7018701030290455, 'gamma': 1.787834608639515, 'lambda': 1.2953335132722847e-05, 'alpha': 0.37146198362050187, 'num_boost_round': 1300} because of the following error: KeyboardInterrupt().\n",
      "Traceback (most recent call last):\n",
      "  File \"d:\\Work\\FlightRank 2025 Aeroclub RecSys Cup\\.venv\\Lib\\site-packages\\optuna\\study\\_optimize.py\", line 201, in _run_trial\n",
      "    value_or_values = func(trial)\n",
      "  File \"C:\\Users\\1tiii\\AppData\\Local\\Temp\\ipykernel_22964\\4015532063.py\", line 1, in <lambda>\n",
      "    study.optimize(lambda trial: objective(trial, data[:n2]), n_trials=50, show_progress_bar=True, gc_after_trial=True)\n",
      "                                 ~~~~~~~~~^^^^^^^^^^^^^^^^^^\n",
      "  File \"C:\\Users\\1tiii\\AppData\\Local\\Temp\\ipykernel_22964\\3748191809.py\", line 122, in objective\n",
      "    hit_at_3 = train_single_split(\n",
      "        data_xgb=data_xgb,\n",
      "    ...<2 lines>...\n",
      "        seed=42,\n",
      "    )\n",
      "  File \"C:\\Users\\1tiii\\AppData\\Local\\Temp\\ipykernel_22964\\3748191809.py\", line 37, in train_single_split\n",
      "    val_df = data_xgb.filter(pl.col(GROUP_COL).is_in(val_groups))\n",
      "  File \"d:\\Work\\FlightRank 2025 Aeroclub RecSys Cup\\.venv\\Lib\\site-packages\\polars\\dataframe\\frame.py\", line 5181, in filter\n",
      "    .collect(optimizations=QueryOptFlags._eager())\n",
      "     ~~~~~~~^^^^^^^^^^^^^^^^^^^^^^^^^^^^^^^^^^^^^^\n",
      "  File \"d:\\Work\\FlightRank 2025 Aeroclub RecSys Cup\\.venv\\Lib\\site-packages\\polars\\_utils\\deprecation.py\", line 97, in wrapper\n",
      "    return function(*args, **kwargs)\n",
      "  File \"d:\\Work\\FlightRank 2025 Aeroclub RecSys Cup\\.venv\\Lib\\site-packages\\polars\\lazyframe\\opt_flags.py\", line 330, in wrapper\n",
      "    return function(*args, **kwargs)\n",
      "  File \"d:\\Work\\FlightRank 2025 Aeroclub RecSys Cup\\.venv\\Lib\\site-packages\\polars\\lazyframe\\frame.py\", line 2332, in collect\n",
      "    return wrap_df(ldf.collect(engine, callback))\n",
      "                   ~~~~~~~~~~~^^^^^^^^^^^^^^^^^^\n",
      "KeyboardInterrupt\n",
      "[W 2025-07-31 15:35:57,213] Trial 20 failed with value None.\n"
     ]
    },
    {
     "ename": "KeyboardInterrupt",
     "evalue": "",
     "output_type": "error",
     "traceback": [
      "\u001b[31m---------------------------------------------------------------------------\u001b[39m",
      "\u001b[31mKeyboardInterrupt\u001b[39m                         Traceback (most recent call last)",
      "\u001b[36mCell\u001b[39m\u001b[36m \u001b[39m\u001b[32mIn[7]\u001b[39m\u001b[32m, line 1\u001b[39m\n\u001b[32m----> \u001b[39m\u001b[32m1\u001b[39m \u001b[43mstudy\u001b[49m\u001b[43m.\u001b[49m\u001b[43moptimize\u001b[49m\u001b[43m(\u001b[49m\u001b[38;5;28;43;01mlambda\u001b[39;49;00m\u001b[43m \u001b[49m\u001b[43mtrial\u001b[49m\u001b[43m:\u001b[49m\u001b[43m \u001b[49m\u001b[43mobjective\u001b[49m\u001b[43m(\u001b[49m\u001b[43mtrial\u001b[49m\u001b[43m,\u001b[49m\u001b[43m \u001b[49m\u001b[43mdata\u001b[49m\u001b[43m[\u001b[49m\u001b[43m:\u001b[49m\u001b[43mn2\u001b[49m\u001b[43m]\u001b[49m\u001b[43m)\u001b[49m\u001b[43m,\u001b[49m\u001b[43m \u001b[49m\u001b[43mn_trials\u001b[49m\u001b[43m=\u001b[49m\u001b[32;43m50\u001b[39;49m\u001b[43m,\u001b[49m\u001b[43m \u001b[49m\u001b[43mshow_progress_bar\u001b[49m\u001b[43m=\u001b[49m\u001b[38;5;28;43;01mTrue\u001b[39;49;00m\u001b[43m,\u001b[49m\u001b[43m \u001b[49m\u001b[43mgc_after_trial\u001b[49m\u001b[43m=\u001b[49m\u001b[38;5;28;43;01mTrue\u001b[39;49;00m\u001b[43m)\u001b[49m\n\u001b[32m      3\u001b[39m \u001b[38;5;66;03m# ---------------------------------------------------------------------\u001b[39;00m\n\u001b[32m      4\u001b[39m \u001b[38;5;66;03m# 3) Report best params & save\u001b[39;00m\n\u001b[32m      5\u001b[39m \u001b[38;5;66;03m# ---------------------------------------------------------------------\u001b[39;00m\n\u001b[32m      6\u001b[39m \u001b[38;5;28mprint\u001b[39m(\u001b[33m\"\u001b[39m\u001b[38;5;130;01m\\n\u001b[39;00m\u001b[33mBest hit@3:\u001b[39m\u001b[33m\"\u001b[39m, \u001b[38;5;28mround\u001b[39m(study.best_value, \u001b[32m4\u001b[39m))\n",
      "\u001b[36mFile \u001b[39m\u001b[32md:\\Work\\FlightRank 2025 Aeroclub RecSys Cup\\.venv\\Lib\\site-packages\\optuna\\study\\study.py:489\u001b[39m, in \u001b[36mStudy.optimize\u001b[39m\u001b[34m(self, func, n_trials, timeout, n_jobs, catch, callbacks, gc_after_trial, show_progress_bar)\u001b[39m\n\u001b[32m    387\u001b[39m \u001b[38;5;28;01mdef\u001b[39;00m\u001b[38;5;250m \u001b[39m\u001b[34moptimize\u001b[39m(\n\u001b[32m    388\u001b[39m     \u001b[38;5;28mself\u001b[39m,\n\u001b[32m    389\u001b[39m     func: ObjectiveFuncType,\n\u001b[32m   (...)\u001b[39m\u001b[32m    396\u001b[39m     show_progress_bar: \u001b[38;5;28mbool\u001b[39m = \u001b[38;5;28;01mFalse\u001b[39;00m,\n\u001b[32m    397\u001b[39m ) -> \u001b[38;5;28;01mNone\u001b[39;00m:\n\u001b[32m    398\u001b[39m \u001b[38;5;250m    \u001b[39m\u001b[33;03m\"\"\"Optimize an objective function.\u001b[39;00m\n\u001b[32m    399\u001b[39m \n\u001b[32m    400\u001b[39m \u001b[33;03m    Optimization is done by choosing a suitable set of hyperparameter values from a given\u001b[39;00m\n\u001b[32m   (...)\u001b[39m\u001b[32m    487\u001b[39m \u001b[33;03m            If nested invocation of this method occurs.\u001b[39;00m\n\u001b[32m    488\u001b[39m \u001b[33;03m    \"\"\"\u001b[39;00m\n\u001b[32m--> \u001b[39m\u001b[32m489\u001b[39m     \u001b[43m_optimize\u001b[49m\u001b[43m(\u001b[49m\n\u001b[32m    490\u001b[39m \u001b[43m        \u001b[49m\u001b[43mstudy\u001b[49m\u001b[43m=\u001b[49m\u001b[38;5;28;43mself\u001b[39;49m\u001b[43m,\u001b[49m\n\u001b[32m    491\u001b[39m \u001b[43m        \u001b[49m\u001b[43mfunc\u001b[49m\u001b[43m=\u001b[49m\u001b[43mfunc\u001b[49m\u001b[43m,\u001b[49m\n\u001b[32m    492\u001b[39m \u001b[43m        \u001b[49m\u001b[43mn_trials\u001b[49m\u001b[43m=\u001b[49m\u001b[43mn_trials\u001b[49m\u001b[43m,\u001b[49m\n\u001b[32m    493\u001b[39m \u001b[43m        \u001b[49m\u001b[43mtimeout\u001b[49m\u001b[43m=\u001b[49m\u001b[43mtimeout\u001b[49m\u001b[43m,\u001b[49m\n\u001b[32m    494\u001b[39m \u001b[43m        \u001b[49m\u001b[43mn_jobs\u001b[49m\u001b[43m=\u001b[49m\u001b[43mn_jobs\u001b[49m\u001b[43m,\u001b[49m\n\u001b[32m    495\u001b[39m \u001b[43m        \u001b[49m\u001b[43mcatch\u001b[49m\u001b[43m=\u001b[49m\u001b[38;5;28;43mtuple\u001b[39;49m\u001b[43m(\u001b[49m\u001b[43mcatch\u001b[49m\u001b[43m)\u001b[49m\u001b[43m \u001b[49m\u001b[38;5;28;43;01mif\u001b[39;49;00m\u001b[43m \u001b[49m\u001b[38;5;28;43misinstance\u001b[39;49m\u001b[43m(\u001b[49m\u001b[43mcatch\u001b[49m\u001b[43m,\u001b[49m\u001b[43m \u001b[49m\u001b[43mIterable\u001b[49m\u001b[43m)\u001b[49m\u001b[43m \u001b[49m\u001b[38;5;28;43;01melse\u001b[39;49;00m\u001b[43m \u001b[49m\u001b[43m(\u001b[49m\u001b[43mcatch\u001b[49m\u001b[43m,\u001b[49m\u001b[43m)\u001b[49m\u001b[43m,\u001b[49m\n\u001b[32m    496\u001b[39m \u001b[43m        \u001b[49m\u001b[43mcallbacks\u001b[49m\u001b[43m=\u001b[49m\u001b[43mcallbacks\u001b[49m\u001b[43m,\u001b[49m\n\u001b[32m    497\u001b[39m \u001b[43m        \u001b[49m\u001b[43mgc_after_trial\u001b[49m\u001b[43m=\u001b[49m\u001b[43mgc_after_trial\u001b[49m\u001b[43m,\u001b[49m\n\u001b[32m    498\u001b[39m \u001b[43m        \u001b[49m\u001b[43mshow_progress_bar\u001b[49m\u001b[43m=\u001b[49m\u001b[43mshow_progress_bar\u001b[49m\u001b[43m,\u001b[49m\n\u001b[32m    499\u001b[39m \u001b[43m    \u001b[49m\u001b[43m)\u001b[49m\n",
      "\u001b[36mFile \u001b[39m\u001b[32md:\\Work\\FlightRank 2025 Aeroclub RecSys Cup\\.venv\\Lib\\site-packages\\optuna\\study\\_optimize.py:64\u001b[39m, in \u001b[36m_optimize\u001b[39m\u001b[34m(study, func, n_trials, timeout, n_jobs, catch, callbacks, gc_after_trial, show_progress_bar)\u001b[39m\n\u001b[32m     62\u001b[39m \u001b[38;5;28;01mtry\u001b[39;00m:\n\u001b[32m     63\u001b[39m     \u001b[38;5;28;01mif\u001b[39;00m n_jobs == \u001b[32m1\u001b[39m:\n\u001b[32m---> \u001b[39m\u001b[32m64\u001b[39m         \u001b[43m_optimize_sequential\u001b[49m\u001b[43m(\u001b[49m\n\u001b[32m     65\u001b[39m \u001b[43m            \u001b[49m\u001b[43mstudy\u001b[49m\u001b[43m,\u001b[49m\n\u001b[32m     66\u001b[39m \u001b[43m            \u001b[49m\u001b[43mfunc\u001b[49m\u001b[43m,\u001b[49m\n\u001b[32m     67\u001b[39m \u001b[43m            \u001b[49m\u001b[43mn_trials\u001b[49m\u001b[43m,\u001b[49m\n\u001b[32m     68\u001b[39m \u001b[43m            \u001b[49m\u001b[43mtimeout\u001b[49m\u001b[43m,\u001b[49m\n\u001b[32m     69\u001b[39m \u001b[43m            \u001b[49m\u001b[43mcatch\u001b[49m\u001b[43m,\u001b[49m\n\u001b[32m     70\u001b[39m \u001b[43m            \u001b[49m\u001b[43mcallbacks\u001b[49m\u001b[43m,\u001b[49m\n\u001b[32m     71\u001b[39m \u001b[43m            \u001b[49m\u001b[43mgc_after_trial\u001b[49m\u001b[43m,\u001b[49m\n\u001b[32m     72\u001b[39m \u001b[43m            \u001b[49m\u001b[43mreseed_sampler_rng\u001b[49m\u001b[43m=\u001b[49m\u001b[38;5;28;43;01mFalse\u001b[39;49;00m\u001b[43m,\u001b[49m\n\u001b[32m     73\u001b[39m \u001b[43m            \u001b[49m\u001b[43mtime_start\u001b[49m\u001b[43m=\u001b[49m\u001b[38;5;28;43;01mNone\u001b[39;49;00m\u001b[43m,\u001b[49m\n\u001b[32m     74\u001b[39m \u001b[43m            \u001b[49m\u001b[43mprogress_bar\u001b[49m\u001b[43m=\u001b[49m\u001b[43mprogress_bar\u001b[49m\u001b[43m,\u001b[49m\n\u001b[32m     75\u001b[39m \u001b[43m        \u001b[49m\u001b[43m)\u001b[49m\n\u001b[32m     76\u001b[39m     \u001b[38;5;28;01melse\u001b[39;00m:\n\u001b[32m     77\u001b[39m         \u001b[38;5;28;01mif\u001b[39;00m n_jobs == -\u001b[32m1\u001b[39m:\n",
      "\u001b[36mFile \u001b[39m\u001b[32md:\\Work\\FlightRank 2025 Aeroclub RecSys Cup\\.venv\\Lib\\site-packages\\optuna\\study\\_optimize.py:161\u001b[39m, in \u001b[36m_optimize_sequential\u001b[39m\u001b[34m(study, func, n_trials, timeout, catch, callbacks, gc_after_trial, reseed_sampler_rng, time_start, progress_bar)\u001b[39m\n\u001b[32m    158\u001b[39m         \u001b[38;5;28;01mbreak\u001b[39;00m\n\u001b[32m    160\u001b[39m \u001b[38;5;28;01mtry\u001b[39;00m:\n\u001b[32m--> \u001b[39m\u001b[32m161\u001b[39m     frozen_trial = \u001b[43m_run_trial\u001b[49m\u001b[43m(\u001b[49m\u001b[43mstudy\u001b[49m\u001b[43m,\u001b[49m\u001b[43m \u001b[49m\u001b[43mfunc\u001b[49m\u001b[43m,\u001b[49m\u001b[43m \u001b[49m\u001b[43mcatch\u001b[49m\u001b[43m)\u001b[49m\n\u001b[32m    162\u001b[39m \u001b[38;5;28;01mfinally\u001b[39;00m:\n\u001b[32m    163\u001b[39m     \u001b[38;5;66;03m# The following line mitigates memory problems that can be occurred in some\u001b[39;00m\n\u001b[32m    164\u001b[39m     \u001b[38;5;66;03m# environments (e.g., services that use computing containers such as GitHub Actions).\u001b[39;00m\n\u001b[32m    165\u001b[39m     \u001b[38;5;66;03m# Please refer to the following PR for further details:\u001b[39;00m\n\u001b[32m    166\u001b[39m     \u001b[38;5;66;03m# https://github.com/optuna/optuna/pull/325.\u001b[39;00m\n\u001b[32m    167\u001b[39m     \u001b[38;5;28;01mif\u001b[39;00m gc_after_trial:\n",
      "\u001b[36mFile \u001b[39m\u001b[32md:\\Work\\FlightRank 2025 Aeroclub RecSys Cup\\.venv\\Lib\\site-packages\\optuna\\study\\_optimize.py:253\u001b[39m, in \u001b[36m_run_trial\u001b[39m\u001b[34m(study, func, catch)\u001b[39m\n\u001b[32m    246\u001b[39m         \u001b[38;5;28;01massert\u001b[39;00m \u001b[38;5;28;01mFalse\u001b[39;00m, \u001b[33m\"\u001b[39m\u001b[33mShould not reach.\u001b[39m\u001b[33m\"\u001b[39m\n\u001b[32m    248\u001b[39m \u001b[38;5;28;01mif\u001b[39;00m (\n\u001b[32m    249\u001b[39m     frozen_trial.state == TrialState.FAIL\n\u001b[32m    250\u001b[39m     \u001b[38;5;129;01mand\u001b[39;00m func_err \u001b[38;5;129;01mis\u001b[39;00m \u001b[38;5;129;01mnot\u001b[39;00m \u001b[38;5;28;01mNone\u001b[39;00m\n\u001b[32m    251\u001b[39m     \u001b[38;5;129;01mand\u001b[39;00m \u001b[38;5;129;01mnot\u001b[39;00m \u001b[38;5;28misinstance\u001b[39m(func_err, catch)\n\u001b[32m    252\u001b[39m ):\n\u001b[32m--> \u001b[39m\u001b[32m253\u001b[39m     \u001b[38;5;28;01mraise\u001b[39;00m func_err\n\u001b[32m    254\u001b[39m \u001b[38;5;28;01mreturn\u001b[39;00m frozen_trial\n",
      "\u001b[36mFile \u001b[39m\u001b[32md:\\Work\\FlightRank 2025 Aeroclub RecSys Cup\\.venv\\Lib\\site-packages\\optuna\\study\\_optimize.py:201\u001b[39m, in \u001b[36m_run_trial\u001b[39m\u001b[34m(study, func, catch)\u001b[39m\n\u001b[32m    199\u001b[39m \u001b[38;5;28;01mwith\u001b[39;00m get_heartbeat_thread(trial._trial_id, study._storage):\n\u001b[32m    200\u001b[39m     \u001b[38;5;28;01mtry\u001b[39;00m:\n\u001b[32m--> \u001b[39m\u001b[32m201\u001b[39m         value_or_values = \u001b[43mfunc\u001b[49m\u001b[43m(\u001b[49m\u001b[43mtrial\u001b[49m\u001b[43m)\u001b[49m\n\u001b[32m    202\u001b[39m     \u001b[38;5;28;01mexcept\u001b[39;00m exceptions.TrialPruned \u001b[38;5;28;01mas\u001b[39;00m e:\n\u001b[32m    203\u001b[39m         \u001b[38;5;66;03m# TODO(mamu): Handle multi-objective cases.\u001b[39;00m\n\u001b[32m    204\u001b[39m         state = TrialState.PRUNED\n",
      "\u001b[36mCell\u001b[39m\u001b[36m \u001b[39m\u001b[32mIn[7]\u001b[39m\u001b[32m, line 1\u001b[39m, in \u001b[36m<lambda>\u001b[39m\u001b[34m(trial)\u001b[39m\n\u001b[32m----> \u001b[39m\u001b[32m1\u001b[39m study.optimize(\u001b[38;5;28;01mlambda\u001b[39;00m trial: \u001b[43mobjective\u001b[49m\u001b[43m(\u001b[49m\u001b[43mtrial\u001b[49m\u001b[43m,\u001b[49m\u001b[43m \u001b[49m\u001b[43mdata\u001b[49m\u001b[43m[\u001b[49m\u001b[43m:\u001b[49m\u001b[43mn2\u001b[49m\u001b[43m]\u001b[49m\u001b[43m)\u001b[49m, n_trials=\u001b[32m50\u001b[39m, show_progress_bar=\u001b[38;5;28;01mTrue\u001b[39;00m, gc_after_trial=\u001b[38;5;28;01mTrue\u001b[39;00m)\n\u001b[32m      3\u001b[39m \u001b[38;5;66;03m# ---------------------------------------------------------------------\u001b[39;00m\n\u001b[32m      4\u001b[39m \u001b[38;5;66;03m# 3) Report best params & save\u001b[39;00m\n\u001b[32m      5\u001b[39m \u001b[38;5;66;03m# ---------------------------------------------------------------------\u001b[39;00m\n\u001b[32m      6\u001b[39m \u001b[38;5;28mprint\u001b[39m(\u001b[33m\"\u001b[39m\u001b[38;5;130;01m\\n\u001b[39;00m\u001b[33mBest hit@3:\u001b[39m\u001b[33m\"\u001b[39m, \u001b[38;5;28mround\u001b[39m(study.best_value, \u001b[32m4\u001b[39m))\n",
      "\u001b[36mCell\u001b[39m\u001b[36m \u001b[39m\u001b[32mIn[4]\u001b[39m\u001b[32m, line 122\u001b[39m, in \u001b[36mobjective\u001b[39m\u001b[34m(trial, data)\u001b[39m\n\u001b[32m    114\u001b[39m num_boost_round = trial.suggest_int(\u001b[33m\"\u001b[39m\u001b[33mnum_boost_round\u001b[39m\u001b[33m\"\u001b[39m, \u001b[32m300\u001b[39m, \u001b[32m1500\u001b[39m, step=\u001b[32m100\u001b[39m)\n\u001b[32m    115\u001b[39m data_xgb = data.with_columns([\n\u001b[32m    116\u001b[39m (pl.col(c).rank(\u001b[33m\"\u001b[39m\u001b[33mdense\u001b[39m\u001b[33m\"\u001b[39m) - \u001b[32m1\u001b[39m)  \u001b[38;5;66;03m# rank starts at 1 → shift to 0\u001b[39;00m\n\u001b[32m    117\u001b[39m .fill_null(-\u001b[32m1\u001b[39m)\n\u001b[32m   (...)\u001b[39m\u001b[32m    120\u001b[39m \u001b[38;5;28;01mfor\u001b[39;00m c \u001b[38;5;129;01min\u001b[39;00m CAT_FEATURES_FINAL\n\u001b[32m    121\u001b[39m ])\n\u001b[32m--> \u001b[39m\u001b[32m122\u001b[39m hit_at_3 = \u001b[43mtrain_single_split\u001b[49m\u001b[43m(\u001b[49m\n\u001b[32m    123\u001b[39m \u001b[43m    \u001b[49m\u001b[43mdata_xgb\u001b[49m\u001b[43m=\u001b[49m\u001b[43mdata_xgb\u001b[49m\u001b[43m,\u001b[49m\n\u001b[32m    124\u001b[39m \u001b[43m    \u001b[49m\u001b[43mparams\u001b[49m\u001b[43m=\u001b[49m\u001b[43mparams\u001b[49m\u001b[43m,\u001b[49m\n\u001b[32m    125\u001b[39m \u001b[43m    \u001b[49m\u001b[43mnum_boost_round\u001b[49m\u001b[43m=\u001b[49m\u001b[43mnum_boost_round\u001b[49m\u001b[43m,\u001b[49m\n\u001b[32m    126\u001b[39m \u001b[43m    \u001b[49m\u001b[43mseed\u001b[49m\u001b[43m=\u001b[49m\u001b[32;43m42\u001b[39;49m\u001b[43m,\u001b[49m\n\u001b[32m    127\u001b[39m \u001b[43m\u001b[49m\u001b[43m)\u001b[49m\n\u001b[32m    129\u001b[39m \u001b[38;5;28;01mreturn\u001b[39;00m hit_at_3\n",
      "\u001b[36mCell\u001b[39m\u001b[36m \u001b[39m\u001b[32mIn[4]\u001b[39m\u001b[32m, line 37\u001b[39m, in \u001b[36mtrain_single_split\u001b[39m\u001b[34m(data_xgb, params, num_boost_round, seed)\u001b[39m\n\u001b[32m     34\u001b[39m groups_unique = data_xgb.select(GROUP_COL).unique().to_numpy().ravel()\n\u001b[32m     35\u001b[39m val_groups = rng.choice(groups_unique, size=\u001b[38;5;28mmax\u001b[39m(\u001b[32m1\u001b[39m, \u001b[38;5;28mint\u001b[39m(\u001b[32m0.2\u001b[39m * \u001b[38;5;28mlen\u001b[39m(groups_unique))), replace=\u001b[38;5;28;01mFalse\u001b[39;00m)\n\u001b[32m---> \u001b[39m\u001b[32m37\u001b[39m val_df = \u001b[43mdata_xgb\u001b[49m\u001b[43m.\u001b[49m\u001b[43mfilter\u001b[49m\u001b[43m(\u001b[49m\u001b[43mpl\u001b[49m\u001b[43m.\u001b[49m\u001b[43mcol\u001b[49m\u001b[43m(\u001b[49m\u001b[43mGROUP_COL\u001b[49m\u001b[43m)\u001b[49m\u001b[43m.\u001b[49m\u001b[43mis_in\u001b[49m\u001b[43m(\u001b[49m\u001b[43mval_groups\u001b[49m\u001b[43m)\u001b[49m\u001b[43m)\u001b[49m\n\u001b[32m     38\u001b[39m train_df = data_xgb.filter(~pl.col(GROUP_COL).is_in(val_groups))\n\u001b[32m     40\u001b[39m feature_cols = [c \u001b[38;5;28;01mfor\u001b[39;00m c \u001b[38;5;129;01min\u001b[39;00m FEATURE_COLUMNS \u001b[38;5;28;01mif\u001b[39;00m c \u001b[38;5;129;01mnot\u001b[39;00m \u001b[38;5;129;01min\u001b[39;00m {LABEL_COL, GROUP_COL}]\n",
      "\u001b[36mFile \u001b[39m\u001b[32md:\\Work\\FlightRank 2025 Aeroclub RecSys Cup\\.venv\\Lib\\site-packages\\polars\\dataframe\\frame.py:5181\u001b[39m, in \u001b[36mDataFrame.filter\u001b[39m\u001b[34m(self, *predicates, **constraints)\u001b[39m\n\u001b[32m   5021\u001b[39m \u001b[38;5;250m\u001b[39m\u001b[33;03m\"\"\"\u001b[39;00m\n\u001b[32m   5022\u001b[39m \u001b[33;03mFilter rows, retaining those that match the given predicate expression(s).\u001b[39;00m\n\u001b[32m   5023\u001b[39m \n\u001b[32m   (...)\u001b[39m\u001b[32m   5174\u001b[39m \u001b[33;03m└──────┴──────┴─────┘\u001b[39;00m\n\u001b[32m   5175\u001b[39m \u001b[33;03m\"\"\"\u001b[39;00m\n\u001b[32m   5176\u001b[39m \u001b[38;5;28;01mfrom\u001b[39;00m\u001b[38;5;250m \u001b[39m\u001b[34;01mpolars\u001b[39;00m\u001b[34;01m.\u001b[39;00m\u001b[34;01mlazyframe\u001b[39;00m\u001b[34;01m.\u001b[39;00m\u001b[34;01mopt_flags\u001b[39;00m\u001b[38;5;250m \u001b[39m\u001b[38;5;28;01mimport\u001b[39;00m QueryOptFlags\n\u001b[32m   5178\u001b[39m \u001b[38;5;28;01mreturn\u001b[39;00m (\n\u001b[32m   5179\u001b[39m     \u001b[38;5;28;43mself\u001b[39;49m\u001b[43m.\u001b[49m\u001b[43mlazy\u001b[49m\u001b[43m(\u001b[49m\u001b[43m)\u001b[49m\n\u001b[32m   5180\u001b[39m \u001b[43m    \u001b[49m\u001b[43m.\u001b[49m\u001b[43mfilter\u001b[49m\u001b[43m(\u001b[49m\u001b[43m*\u001b[49m\u001b[43mpredicates\u001b[49m\u001b[43m,\u001b[49m\u001b[43m \u001b[49m\u001b[43m*\u001b[49m\u001b[43m*\u001b[49m\u001b[43mconstraints\u001b[49m\u001b[43m)\u001b[49m\n\u001b[32m-> \u001b[39m\u001b[32m5181\u001b[39m \u001b[43m    \u001b[49m\u001b[43m.\u001b[49m\u001b[43mcollect\u001b[49m\u001b[43m(\u001b[49m\u001b[43moptimizations\u001b[49m\u001b[43m=\u001b[49m\u001b[43mQueryOptFlags\u001b[49m\u001b[43m.\u001b[49m\u001b[43m_eager\u001b[49m\u001b[43m(\u001b[49m\u001b[43m)\u001b[49m\u001b[43m)\u001b[49m\n\u001b[32m   5182\u001b[39m )\n",
      "\u001b[36mFile \u001b[39m\u001b[32md:\\Work\\FlightRank 2025 Aeroclub RecSys Cup\\.venv\\Lib\\site-packages\\polars\\_utils\\deprecation.py:97\u001b[39m, in \u001b[36mdeprecate_streaming_parameter.<locals>.decorate.<locals>.wrapper\u001b[39m\u001b[34m(*args, **kwargs)\u001b[39m\n\u001b[32m     93\u001b[39m         kwargs[\u001b[33m\"\u001b[39m\u001b[33mengine\u001b[39m\u001b[33m\"\u001b[39m] = \u001b[33m\"\u001b[39m\u001b[33min-memory\u001b[39m\u001b[33m\"\u001b[39m\n\u001b[32m     95\u001b[39m     \u001b[38;5;28;01mdel\u001b[39;00m kwargs[\u001b[33m\"\u001b[39m\u001b[33mstreaming\u001b[39m\u001b[33m\"\u001b[39m]\n\u001b[32m---> \u001b[39m\u001b[32m97\u001b[39m \u001b[38;5;28;01mreturn\u001b[39;00m \u001b[43mfunction\u001b[49m\u001b[43m(\u001b[49m\u001b[43m*\u001b[49m\u001b[43margs\u001b[49m\u001b[43m,\u001b[49m\u001b[43m \u001b[49m\u001b[43m*\u001b[49m\u001b[43m*\u001b[49m\u001b[43mkwargs\u001b[49m\u001b[43m)\u001b[49m\n",
      "\u001b[36mFile \u001b[39m\u001b[32md:\\Work\\FlightRank 2025 Aeroclub RecSys Cup\\.venv\\Lib\\site-packages\\polars\\lazyframe\\opt_flags.py:330\u001b[39m, in \u001b[36mforward_old_opt_flags.<locals>.decorate.<locals>.wrapper\u001b[39m\u001b[34m(*args, **kwargs)\u001b[39m\n\u001b[32m    327\u001b[39m         optflags = cb(optflags, kwargs.pop(key))  \u001b[38;5;66;03m# type: ignore[no-untyped-call,unused-ignore]\u001b[39;00m\n\u001b[32m    329\u001b[39m kwargs[\u001b[33m\"\u001b[39m\u001b[33moptimizations\u001b[39m\u001b[33m\"\u001b[39m] = optflags\n\u001b[32m--> \u001b[39m\u001b[32m330\u001b[39m \u001b[38;5;28;01mreturn\u001b[39;00m \u001b[43mfunction\u001b[49m\u001b[43m(\u001b[49m\u001b[43m*\u001b[49m\u001b[43margs\u001b[49m\u001b[43m,\u001b[49m\u001b[43m \u001b[49m\u001b[43m*\u001b[49m\u001b[43m*\u001b[49m\u001b[43mkwargs\u001b[49m\u001b[43m)\u001b[49m\n",
      "\u001b[36mFile \u001b[39m\u001b[32md:\\Work\\FlightRank 2025 Aeroclub RecSys Cup\\.venv\\Lib\\site-packages\\polars\\lazyframe\\frame.py:2332\u001b[39m, in \u001b[36mLazyFrame.collect\u001b[39m\u001b[34m(self, type_coercion, predicate_pushdown, projection_pushdown, simplify_expression, slice_pushdown, comm_subplan_elim, comm_subexpr_elim, cluster_with_columns, collapse_joins, no_optimization, engine, background, optimizations, **_kwargs)\u001b[39m\n\u001b[32m   2330\u001b[39m \u001b[38;5;66;03m# Only for testing purposes\u001b[39;00m\n\u001b[32m   2331\u001b[39m callback = _kwargs.get(\u001b[33m\"\u001b[39m\u001b[33mpost_opt_callback\u001b[39m\u001b[33m\"\u001b[39m, callback)\n\u001b[32m-> \u001b[39m\u001b[32m2332\u001b[39m \u001b[38;5;28;01mreturn\u001b[39;00m wrap_df(\u001b[43mldf\u001b[49m\u001b[43m.\u001b[49m\u001b[43mcollect\u001b[49m\u001b[43m(\u001b[49m\u001b[43mengine\u001b[49m\u001b[43m,\u001b[49m\u001b[43m \u001b[49m\u001b[43mcallback\u001b[49m\u001b[43m)\u001b[49m)\n",
      "\u001b[31mKeyboardInterrupt\u001b[39m: "
     ]
    }
   ],
   "source": [
    "study.optimize(lambda trial: objective(trial, data[:n2]), n_trials=50, show_progress_bar=True, gc_after_trial=True)\n",
    "\n",
    "# ---------------------------------------------------------------------\n",
    "# 3) Report best params & save\n",
    "# ---------------------------------------------------------------------\n",
    "print(\"\\nBest hit@3:\", round(study.best_value, 4))\n",
    "print(\"Best params:\\n\", study.best_params)\n",
    "\n",
    "out_dir = Path(\"optuna_results\")\n",
    "out_dir.mkdir(exist_ok=True, parents=True)\n",
    "(out_dir / \"best_params.json\").write_text(study.best_trial.params.__repr__())"
   ]
  },
  {
   "cell_type": "code",
   "execution_count": 10,
   "id": "360adfa3",
   "metadata": {},
   "outputs": [
    {
     "data": {
      "text/plain": [
       "{'eta': 0.21097440411031887,\n",
       " 'max_depth': 11,\n",
       " 'min_child_weight': 14,\n",
       " 'subsample': 0.9941042210100538,\n",
       " 'colsample_bytree': 0.6866804869216795,\n",
       " 'gamma': 1.7235898102326062,\n",
       " 'lambda': 1.0938350888836036e-05,\n",
       " 'alpha': 0.23093425602077636,\n",
       " 'num_boost_round': 1200}"
      ]
     },
     "execution_count": 10,
     "metadata": {},
     "output_type": "execute_result"
    }
   ],
   "source": [
    "study.best_params"
   ]
  },
  {
   "cell_type": "code",
   "execution_count": 9,
   "id": "23a16a1d",
   "metadata": {},
   "outputs": [
    {
     "data": {
      "text/plain": [
       "[FrozenTrial(number=0, state=0, values=None, datetime_start=datetime.datetime(2025, 7, 31, 14, 51, 46, 274228), datetime_complete=None, params={'eta': 0.013782869342439474, 'max_depth': 12, 'min_child_weight': 18, 'subsample': 0.9104912727780459, 'colsample_bytree': 0.7325712310823745, 'gamma': 0.6878229253767104, 'lambda': 1.0430375163161512, 'alpha': 1.657867169817773e-06, 'num_boost_round': 1300}, user_attrs={}, system_attrs={}, intermediate_values={}, distributions={'eta': FloatDistribution(high=0.3, log=True, low=0.01, step=None), 'max_depth': IntDistribution(high=12, log=False, low=3, step=1), 'min_child_weight': IntDistribution(high=20, log=False, low=1, step=1), 'subsample': FloatDistribution(high=1.0, log=False, low=0.6, step=None), 'colsample_bytree': FloatDistribution(high=1.0, log=False, low=0.6, step=None), 'gamma': FloatDistribution(high=5.0, log=False, low=0.0, step=None), 'lambda': FloatDistribution(high=10.0, log=True, low=1e-08, step=None), 'alpha': FloatDistribution(high=10.0, log=True, low=1e-08, step=None), 'num_boost_round': IntDistribution(high=1500, log=False, low=300, step=100)}, trial_id=1, value=None),\n",
       " FrozenTrial(number=1, state=1, values=[0.4796201688138605], datetime_start=datetime.datetime(2025, 7, 31, 14, 52, 56, 453017), datetime_complete=datetime.datetime(2025, 7, 31, 14, 55, 53, 949160), params={'eta': 0.08335787395914011, 'max_depth': 6, 'min_child_weight': 9, 'subsample': 0.6029582780036361, 'colsample_bytree': 0.8734714567362571, 'gamma': 4.06772380152176, 'lambda': 1.0995782251720793e-06, 'alpha': 1.3982027839890291e-05, 'num_boost_round': 700}, user_attrs={}, system_attrs={}, intermediate_values={}, distributions={'eta': FloatDistribution(high=0.3, log=True, low=0.01, step=None), 'max_depth': IntDistribution(high=12, log=False, low=3, step=1), 'min_child_weight': IntDistribution(high=20, log=False, low=1, step=1), 'subsample': FloatDistribution(high=1.0, log=False, low=0.6, step=None), 'colsample_bytree': FloatDistribution(high=1.0, log=False, low=0.6, step=None), 'gamma': FloatDistribution(high=5.0, log=False, low=0.0, step=None), 'lambda': FloatDistribution(high=10.0, log=True, low=1e-08, step=None), 'alpha': FloatDistribution(high=10.0, log=True, low=1e-08, step=None), 'num_boost_round': IntDistribution(high=1500, log=False, low=300, step=100)}, trial_id=2, value=None),\n",
       " FrozenTrial(number=2, state=1, values=[0.5323047788793583], datetime_start=datetime.datetime(2025, 7, 31, 14, 55, 54, 190395), datetime_complete=datetime.datetime(2025, 7, 31, 14, 58, 5, 442947), params={'eta': 0.0320328706819325, 'max_depth': 12, 'min_child_weight': 20, 'subsample': 0.8328671859214807, 'colsample_bytree': 0.809897937821523, 'gamma': 0.9694596039503123, 'lambda': 9.192711383091203e-07, 'alpha': 1.2593217805799823e-07, 'num_boost_round': 300}, user_attrs={}, system_attrs={}, intermediate_values={}, distributions={'eta': FloatDistribution(high=0.3, log=True, low=0.01, step=None), 'max_depth': IntDistribution(high=12, log=False, low=3, step=1), 'min_child_weight': IntDistribution(high=20, log=False, low=1, step=1), 'subsample': FloatDistribution(high=1.0, log=False, low=0.6, step=None), 'colsample_bytree': FloatDistribution(high=1.0, log=False, low=0.6, step=None), 'gamma': FloatDistribution(high=5.0, log=False, low=0.0, step=None), 'lambda': FloatDistribution(high=10.0, log=True, low=1e-08, step=None), 'alpha': FloatDistribution(high=10.0, log=True, low=1e-08, step=None), 'num_boost_round': IntDistribution(high=1500, log=False, low=300, step=100)}, trial_id=3, value=None),\n",
       " FrozenTrial(number=3, state=1, values=[0.4959453454787825], datetime_start=datetime.datetime(2025, 7, 31, 14, 58, 5, 585601), datetime_complete=datetime.datetime(2025, 7, 31, 15, 0, 48, 204205), params={'eta': 0.06403985293540068, 'max_depth': 8, 'min_child_weight': 13, 'subsample': 0.731070819756348, 'colsample_bytree': 0.7587363904216496, 'gamma': 1.7261318691704934, 'lambda': 0.061090188036484354, 'alpha': 0.0002152083060273973, 'num_boost_round': 500}, user_attrs={}, system_attrs={}, intermediate_values={}, distributions={'eta': FloatDistribution(high=0.3, log=True, low=0.01, step=None), 'max_depth': IntDistribution(high=12, log=False, low=3, step=1), 'min_child_weight': IntDistribution(high=20, log=False, low=1, step=1), 'subsample': FloatDistribution(high=1.0, log=False, low=0.6, step=None), 'colsample_bytree': FloatDistribution(high=1.0, log=False, low=0.6, step=None), 'gamma': FloatDistribution(high=5.0, log=False, low=0.0, step=None), 'lambda': FloatDistribution(high=10.0, log=True, low=1e-08, step=None), 'alpha': FloatDistribution(high=10.0, log=True, low=1e-08, step=None), 'num_boost_round': IntDistribution(high=1500, log=False, low=300, step=100)}, trial_id=4, value=None),\n",
       " FrozenTrial(number=4, state=1, values=[0.5431843575418994], datetime_start=datetime.datetime(2025, 7, 31, 15, 0, 48, 388317), datetime_complete=datetime.datetime(2025, 7, 31, 15, 2, 57, 850727), params={'eta': 0.0975734357194814, 'max_depth': 12, 'min_child_weight': 1, 'subsample': 0.9633583317048684, 'colsample_bytree': 0.9694764763262228, 'gamma': 0.5172202434287276, 'lambda': 1.8648618621250183e-07, 'alpha': 0.0005085321369709738, 'num_boost_round': 300}, user_attrs={}, system_attrs={}, intermediate_values={}, distributions={'eta': FloatDistribution(high=0.3, log=True, low=0.01, step=None), 'max_depth': IntDistribution(high=12, log=False, low=3, step=1), 'min_child_weight': IntDistribution(high=20, log=False, low=1, step=1), 'subsample': FloatDistribution(high=1.0, log=False, low=0.6, step=None), 'colsample_bytree': FloatDistribution(high=1.0, log=False, low=0.6, step=None), 'gamma': FloatDistribution(high=5.0, log=False, low=0.0, step=None), 'lambda': FloatDistribution(high=10.0, log=True, low=1e-08, step=None), 'alpha': FloatDistribution(high=10.0, log=True, low=1e-08, step=None), 'num_boost_round': IntDistribution(high=1500, log=False, low=300, step=100)}, trial_id=5, value=None),\n",
       " FrozenTrial(number=5, state=1, values=[0.36804238706079195], datetime_start=datetime.datetime(2025, 7, 31, 15, 2, 58, 12899), datetime_complete=datetime.datetime(2025, 7, 31, 15, 4, 15, 8170), params={'eta': 0.015087935247358688, 'max_depth': 5, 'min_child_weight': 6, 'subsample': 0.9373906035564472, 'colsample_bytree': 0.9522431131287402, 'gamma': 0.9633162038097742, 'lambda': 1.3466184316293038e-06, 'alpha': 5.153330488599911e-07, 'num_boost_round': 600}, user_attrs={}, system_attrs={}, intermediate_values={}, distributions={'eta': FloatDistribution(high=0.3, log=True, low=0.01, step=None), 'max_depth': IntDistribution(high=12, log=False, low=3, step=1), 'min_child_weight': IntDistribution(high=20, log=False, low=1, step=1), 'subsample': FloatDistribution(high=1.0, log=False, low=0.6, step=None), 'colsample_bytree': FloatDistribution(high=1.0, log=False, low=0.6, step=None), 'gamma': FloatDistribution(high=5.0, log=False, low=0.0, step=None), 'lambda': FloatDistribution(high=10.0, log=True, low=1e-08, step=None), 'alpha': FloatDistribution(high=10.0, log=True, low=1e-08, step=None), 'num_boost_round': IntDistribution(high=1500, log=False, low=300, step=100)}, trial_id=6, value=None),\n",
       " FrozenTrial(number=6, state=1, values=[0.4705487873030066], datetime_start=datetime.datetime(2025, 7, 31, 15, 4, 15, 150915), datetime_complete=datetime.datetime(2025, 7, 31, 15, 7, 53, 802680), params={'eta': 0.16455828173249606, 'max_depth': 4, 'min_child_weight': 11, 'subsample': 0.839508539333598, 'colsample_bytree': 0.9669825179468627, 'gamma': 4.229160617987611, 'lambda': 3.6920823409920216e-05, 'alpha': 0.000719737542313024, 'num_boost_round': 1100}, user_attrs={}, system_attrs={}, intermediate_values={}, distributions={'eta': FloatDistribution(high=0.3, log=True, low=0.01, step=None), 'max_depth': IntDistribution(high=12, log=False, low=3, step=1), 'min_child_weight': IntDistribution(high=20, log=False, low=1, step=1), 'subsample': FloatDistribution(high=1.0, log=False, low=0.6, step=None), 'colsample_bytree': FloatDistribution(high=1.0, log=False, low=0.6, step=None), 'gamma': FloatDistribution(high=5.0, log=False, low=0.0, step=None), 'lambda': FloatDistribution(high=10.0, log=True, low=1e-08, step=None), 'alpha': FloatDistribution(high=10.0, log=True, low=1e-08, step=None), 'num_boost_round': IntDistribution(high=1500, log=False, low=300, step=100)}, trial_id=7, value=None),\n",
       " FrozenTrial(number=7, state=3, values=None, datetime_start=datetime.datetime(2025, 7, 31, 15, 7, 53, 985504), datetime_complete=datetime.datetime(2025, 7, 31, 15, 8, 38, 449707), params={'eta': 0.1263576395890976, 'max_depth': 3, 'min_child_weight': 10, 'subsample': 0.9392780909650095, 'colsample_bytree': 0.8281408350058722, 'gamma': 4.837010973684691, 'lambda': 0.24680840796229433, 'alpha': 1.3444839962479257e-08, 'num_boost_round': 400}, user_attrs={}, system_attrs={}, intermediate_values={}, distributions={'eta': FloatDistribution(high=0.3, log=True, low=0.01, step=None), 'max_depth': IntDistribution(high=12, log=False, low=3, step=1), 'min_child_weight': IntDistribution(high=20, log=False, low=1, step=1), 'subsample': FloatDistribution(high=1.0, log=False, low=0.6, step=None), 'colsample_bytree': FloatDistribution(high=1.0, log=False, low=0.6, step=None), 'gamma': FloatDistribution(high=5.0, log=False, low=0.0, step=None), 'lambda': FloatDistribution(high=10.0, log=True, low=1e-08, step=None), 'alpha': FloatDistribution(high=10.0, log=True, low=1e-08, step=None), 'num_boost_round': IntDistribution(high=1500, log=False, low=300, step=100)}, trial_id=8, value=None),\n",
       " FrozenTrial(number=8, state=1, values=[0.4662334777296457], datetime_start=datetime.datetime(2025, 7, 31, 15, 9, 44, 875780), datetime_complete=datetime.datetime(2025, 7, 31, 15, 11, 50, 430550), params={'eta': 0.054089595287261844, 'max_depth': 8, 'min_child_weight': 10, 'subsample': 0.7565366851178921, 'colsample_bytree': 0.9452070555978844, 'gamma': 3.1517328032733167, 'lambda': 2.9844649491816266e-07, 'alpha': 0.006713227456176927, 'num_boost_round': 300}, user_attrs={}, system_attrs={}, intermediate_values={}, distributions={'eta': FloatDistribution(high=0.3, log=True, low=0.01, step=None), 'max_depth': IntDistribution(high=12, log=False, low=3, step=1), 'min_child_weight': IntDistribution(high=20, log=False, low=1, step=1), 'subsample': FloatDistribution(high=1.0, log=False, low=0.6, step=None), 'colsample_bytree': FloatDistribution(high=1.0, log=False, low=0.6, step=None), 'gamma': FloatDistribution(high=5.0, log=False, low=0.0, step=None), 'lambda': FloatDistribution(high=10.0, log=True, low=1e-08, step=None), 'alpha': FloatDistribution(high=10.0, log=True, low=1e-08, step=None), 'num_boost_round': IntDistribution(high=1500, log=False, low=300, step=100)}, trial_id=9, value=None),\n",
       " FrozenTrial(number=9, state=1, values=[0.45340401785714285], datetime_start=datetime.datetime(2025, 7, 31, 15, 11, 50, 619309), datetime_complete=datetime.datetime(2025, 7, 31, 15, 14, 35, 121439), params={'eta': 0.0320284992549291, 'max_depth': 6, 'min_child_weight': 6, 'subsample': 0.7204405189364425, 'colsample_bytree': 0.7958177859102721, 'gamma': 0.608829736013396, 'lambda': 0.00010011110392002817, 'alpha': 0.005916200202277913, 'num_boost_round': 600}, user_attrs={}, system_attrs={}, intermediate_values={}, distributions={'eta': FloatDistribution(high=0.3, log=True, low=0.01, step=None), 'max_depth': IntDistribution(high=12, log=False, low=3, step=1), 'min_child_weight': IntDistribution(high=20, log=False, low=1, step=1), 'subsample': FloatDistribution(high=1.0, log=False, low=0.6, step=None), 'colsample_bytree': FloatDistribution(high=1.0, log=False, low=0.6, step=None), 'gamma': FloatDistribution(high=5.0, log=False, low=0.0, step=None), 'lambda': FloatDistribution(high=10.0, log=True, low=1e-08, step=None), 'alpha': FloatDistribution(high=10.0, log=True, low=1e-08, step=None), 'num_boost_round': IntDistribution(high=1500, log=False, low=300, step=100)}, trial_id=10, value=None),\n",
       " FrozenTrial(number=10, state=1, values=[0.47411777802515864], datetime_start=datetime.datetime(2025, 7, 31, 15, 14, 35, 294449), datetime_complete=datetime.datetime(2025, 7, 31, 15, 17, 1, 396265), params={'eta': 0.17529212513767822, 'max_depth': 5, 'min_child_weight': 9, 'subsample': 0.7938616749364508, 'colsample_bytree': 0.9590306958501253, 'gamma': 4.46323441898894, 'lambda': 0.2115451133027719, 'alpha': 0.01017524009021287, 'num_boost_round': 1300}, user_attrs={}, system_attrs={}, intermediate_values={}, distributions={'eta': FloatDistribution(high=0.3, log=True, low=0.01, step=None), 'max_depth': IntDistribution(high=12, log=False, low=3, step=1), 'min_child_weight': IntDistribution(high=20, log=False, low=1, step=1), 'subsample': FloatDistribution(high=1.0, log=False, low=0.6, step=None), 'colsample_bytree': FloatDistribution(high=1.0, log=False, low=0.6, step=None), 'gamma': FloatDistribution(high=5.0, log=False, low=0.0, step=None), 'lambda': FloatDistribution(high=10.0, log=True, low=1e-08, step=None), 'alpha': FloatDistribution(high=10.0, log=True, low=1e-08, step=None), 'num_boost_round': IntDistribution(high=1500, log=False, low=300, step=100)}, trial_id=11, value=None),\n",
       " FrozenTrial(number=11, state=1, values=[0.38417322395222947], datetime_start=datetime.datetime(2025, 7, 31, 15, 17, 1, 581513), datetime_complete=datetime.datetime(2025, 7, 31, 15, 17, 53, 128089), params={'eta': 0.020700655209104434, 'max_depth': 6, 'min_child_weight': 20, 'subsample': 0.9704843297697588, 'colsample_bytree': 0.9432714376950468, 'gamma': 4.963358092742362, 'lambda': 5.835599300879498, 'alpha': 2.994447468599529e-05, 'num_boost_round': 300}, user_attrs={}, system_attrs={}, intermediate_values={}, distributions={'eta': FloatDistribution(high=0.3, log=True, low=0.01, step=None), 'max_depth': IntDistribution(high=12, log=False, low=3, step=1), 'min_child_weight': IntDistribution(high=20, log=False, low=1, step=1), 'subsample': FloatDistribution(high=1.0, log=False, low=0.6, step=None), 'colsample_bytree': FloatDistribution(high=1.0, log=False, low=0.6, step=None), 'gamma': FloatDistribution(high=5.0, log=False, low=0.0, step=None), 'lambda': FloatDistribution(high=10.0, log=True, low=1e-08, step=None), 'alpha': FloatDistribution(high=10.0, log=True, low=1e-08, step=None), 'num_boost_round': IntDistribution(high=1500, log=False, low=300, step=100)}, trial_id=12, value=None),\n",
       " FrozenTrial(number=12, state=1, values=[0.5620812862885216], datetime_start=datetime.datetime(2025, 7, 31, 15, 17, 53, 228370), datetime_complete=datetime.datetime(2025, 7, 31, 15, 19, 40, 140389), params={'eta': 0.2713322362860683, 'max_depth': 12, 'min_child_weight': 1, 'subsample': 0.9003033337492424, 'colsample_bytree': 0.6264713043381429, 'gamma': 2.271616000943315, 'lambda': 3.3617174705593664e-08, 'alpha': 3.856122179288259, 'num_boost_round': 900}, user_attrs={}, system_attrs={}, intermediate_values={}, distributions={'eta': FloatDistribution(high=0.3, log=True, low=0.01, step=None), 'max_depth': IntDistribution(high=12, log=False, low=3, step=1), 'min_child_weight': IntDistribution(high=20, log=False, low=1, step=1), 'subsample': FloatDistribution(high=1.0, log=False, low=0.6, step=None), 'colsample_bytree': FloatDistribution(high=1.0, log=False, low=0.6, step=None), 'gamma': FloatDistribution(high=5.0, log=False, low=0.0, step=None), 'lambda': FloatDistribution(high=10.0, log=True, low=1e-08, step=None), 'alpha': FloatDistribution(high=10.0, log=True, low=1e-08, step=None), 'num_boost_round': IntDistribution(high=1500, log=False, low=300, step=100)}, trial_id=13, value=None),\n",
       " FrozenTrial(number=13, state=1, values=[0.5540683732084101], datetime_start=datetime.datetime(2025, 7, 31, 15, 19, 40, 287737), datetime_complete=datetime.datetime(2025, 7, 31, 15, 21, 14, 199972), params={'eta': 0.2872260842966097, 'max_depth': 12, 'min_child_weight': 1, 'subsample': 0.8977515535078602, 'colsample_bytree': 0.6304803694467846, 'gamma': 2.4643971147913613, 'lambda': 1.2484361732743704e-08, 'alpha': 6.104132168523236, 'num_boost_round': 1500}, user_attrs={}, system_attrs={}, intermediate_values={}, distributions={'eta': FloatDistribution(high=0.3, log=True, low=0.01, step=None), 'max_depth': IntDistribution(high=12, log=False, low=3, step=1), 'min_child_weight': IntDistribution(high=20, log=False, low=1, step=1), 'subsample': FloatDistribution(high=1.0, log=False, low=0.6, step=None), 'colsample_bytree': FloatDistribution(high=1.0, log=False, low=0.6, step=None), 'gamma': FloatDistribution(high=5.0, log=False, low=0.0, step=None), 'lambda': FloatDistribution(high=10.0, log=True, low=1e-08, step=None), 'alpha': FloatDistribution(high=10.0, log=True, low=1e-08, step=None), 'num_boost_round': IntDistribution(high=1500, log=False, low=300, step=100)}, trial_id=14, value=None),\n",
       " FrozenTrial(number=14, state=1, values=[0.5428714412811388], datetime_start=datetime.datetime(2025, 7, 31, 15, 21, 14, 345344), datetime_complete=datetime.datetime(2025, 7, 31, 15, 23, 15, 220106), params={'eta': 0.29415708903682625, 'max_depth': 10, 'min_child_weight': 1, 'subsample': 0.8956856424839637, 'colsample_bytree': 0.6037125758118901, 'gamma': 2.4994054703232487, 'lambda': 1.4499523533667203e-08, 'alpha': 7.9739094962389325, 'num_boost_round': 1500}, user_attrs={}, system_attrs={}, intermediate_values={}, distributions={'eta': FloatDistribution(high=0.3, log=True, low=0.01, step=None), 'max_depth': IntDistribution(high=12, log=False, low=3, step=1), 'min_child_weight': IntDistribution(high=20, log=False, low=1, step=1), 'subsample': FloatDistribution(high=1.0, log=False, low=0.6, step=None), 'colsample_bytree': FloatDistribution(high=1.0, log=False, low=0.6, step=None), 'gamma': FloatDistribution(high=5.0, log=False, low=0.0, step=None), 'lambda': FloatDistribution(high=10.0, log=True, low=1e-08, step=None), 'alpha': FloatDistribution(high=10.0, log=True, low=1e-08, step=None), 'num_boost_round': IntDistribution(high=1500, log=False, low=300, step=100)}, trial_id=15, value=None),\n",
       " FrozenTrial(number=15, state=1, values=[0.5493961150999054], datetime_start=datetime.datetime(2025, 7, 31, 15, 23, 15, 370729), datetime_complete=datetime.datetime(2025, 7, 31, 15, 25, 20, 645536), params={'eta': 0.2858193348280146, 'max_depth': 10, 'min_child_weight': 4, 'subsample': 0.8982564777838123, 'colsample_bytree': 0.6105286184222108, 'gamma': 2.4798772576540773, 'lambda': 1.5817695489804202e-08, 'alpha': 6.834227828244898, 'num_boost_round': 900}, user_attrs={}, system_attrs={}, intermediate_values={}, distributions={'eta': FloatDistribution(high=0.3, log=True, low=0.01, step=None), 'max_depth': IntDistribution(high=12, log=False, low=3, step=1), 'min_child_weight': IntDistribution(high=20, log=False, low=1, step=1), 'subsample': FloatDistribution(high=1.0, log=False, low=0.6, step=None), 'colsample_bytree': FloatDistribution(high=1.0, log=False, low=0.6, step=None), 'gamma': FloatDistribution(high=5.0, log=False, low=0.0, step=None), 'lambda': FloatDistribution(high=10.0, log=True, low=1e-08, step=None), 'alpha': FloatDistribution(high=10.0, log=True, low=1e-08, step=None), 'num_boost_round': IntDistribution(high=1500, log=False, low=300, step=100)}, trial_id=16, value=None),\n",
       " FrozenTrial(number=16, state=1, values=[0.5368632707774799], datetime_start=datetime.datetime(2025, 7, 31, 15, 25, 20, 765464), datetime_complete=datetime.datetime(2025, 7, 31, 15, 27, 38, 100421), params={'eta': 0.16333806254628663, 'max_depth': 10, 'min_child_weight': 4, 'subsample': 0.8905474836085736, 'colsample_bytree': 0.6749431070677041, 'gamma': 3.2706149415610692, 'lambda': 0.000947496063024176, 'alpha': 0.29170620064939495, 'num_boost_round': 1000}, user_attrs={}, system_attrs={}, intermediate_values={}, distributions={'eta': FloatDistribution(high=0.3, log=True, low=0.01, step=None), 'max_depth': IntDistribution(high=12, log=False, low=3, step=1), 'min_child_weight': IntDistribution(high=20, log=False, low=1, step=1), 'subsample': FloatDistribution(high=1.0, log=False, low=0.6, step=None), 'colsample_bytree': FloatDistribution(high=1.0, log=False, low=0.6, step=None), 'gamma': FloatDistribution(high=5.0, log=False, low=0.0, step=None), 'lambda': FloatDistribution(high=10.0, log=True, low=1e-08, step=None), 'alpha': FloatDistribution(high=10.0, log=True, low=1e-08, step=None), 'num_boost_round': IntDistribution(high=1500, log=False, low=300, step=100)}, trial_id=17, value=None),\n",
       " FrozenTrial(number=17, state=1, values=[0.5626575541986444], datetime_start=datetime.datetime(2025, 7, 31, 15, 27, 38, 236011), datetime_complete=datetime.datetime(2025, 7, 31, 15, 29, 55, 357057), params={'eta': 0.21097440411031887, 'max_depth': 11, 'min_child_weight': 14, 'subsample': 0.9941042210100538, 'colsample_bytree': 0.6866804869216795, 'gamma': 1.7235898102326062, 'lambda': 1.0938350888836036e-05, 'alpha': 0.23093425602077636, 'num_boost_round': 1200}, user_attrs={}, system_attrs={}, intermediate_values={}, distributions={'eta': FloatDistribution(high=0.3, log=True, low=0.01, step=None), 'max_depth': IntDistribution(high=12, log=False, low=3, step=1), 'min_child_weight': IntDistribution(high=20, log=False, low=1, step=1), 'subsample': FloatDistribution(high=1.0, log=False, low=0.6, step=None), 'colsample_bytree': FloatDistribution(high=1.0, log=False, low=0.6, step=None), 'gamma': FloatDistribution(high=5.0, log=False, low=0.0, step=None), 'lambda': FloatDistribution(high=10.0, log=True, low=1e-08, step=None), 'alpha': FloatDistribution(high=10.0, log=True, low=1e-08, step=None), 'num_boost_round': IntDistribution(high=1500, log=False, low=300, step=100)}, trial_id=18, value=None),\n",
       " FrozenTrial(number=18, state=1, values=[0.5622633103141012], datetime_start=datetime.datetime(2025, 7, 31, 15, 29, 55, 551007), datetime_complete=datetime.datetime(2025, 7, 31, 15, 32, 11, 936743), params={'eta': 0.12975503016044343, 'max_depth': 11, 'min_child_weight': 15, 'subsample': 0.9891604903333733, 'colsample_bytree': 0.6856003097753048, 'gamma': 1.939637792800385, 'lambda': 0.0009081994817525512, 'alpha': 0.2061072333494555, 'num_boost_round': 1200}, user_attrs={}, system_attrs={}, intermediate_values={}, distributions={'eta': FloatDistribution(high=0.3, log=True, low=0.01, step=None), 'max_depth': IntDistribution(high=12, log=False, low=3, step=1), 'min_child_weight': IntDistribution(high=20, log=False, low=1, step=1), 'subsample': FloatDistribution(high=1.0, log=False, low=0.6, step=None), 'colsample_bytree': FloatDistribution(high=1.0, log=False, low=0.6, step=None), 'gamma': FloatDistribution(high=5.0, log=False, low=0.0, step=None), 'lambda': FloatDistribution(high=10.0, log=True, low=1e-08, step=None), 'alpha': FloatDistribution(high=10.0, log=True, low=1e-08, step=None), 'num_boost_round': IntDistribution(high=1500, log=False, low=300, step=100)}, trial_id=19, value=None),\n",
       " FrozenTrial(number=19, state=1, values=[0.5353529738743746], datetime_start=datetime.datetime(2025, 7, 31, 15, 32, 12, 130051), datetime_complete=datetime.datetime(2025, 7, 31, 15, 35, 49, 149464), params={'eta': 0.11578251152816867, 'max_depth': 9, 'min_child_weight': 16, 'subsample': 0.9966829269297759, 'colsample_bytree': 0.7041730959875934, 'gamma': 1.6355592802491676, 'lambda': 0.002978943506440341, 'alpha': 0.06258517851942154, 'num_boost_round': 1200}, user_attrs={}, system_attrs={}, intermediate_values={}, distributions={'eta': FloatDistribution(high=0.3, log=True, low=0.01, step=None), 'max_depth': IntDistribution(high=12, log=False, low=3, step=1), 'min_child_weight': IntDistribution(high=20, log=False, low=1, step=1), 'subsample': FloatDistribution(high=1.0, log=False, low=0.6, step=None), 'colsample_bytree': FloatDistribution(high=1.0, log=False, low=0.6, step=None), 'gamma': FloatDistribution(high=5.0, log=False, low=0.0, step=None), 'lambda': FloatDistribution(high=10.0, log=True, low=1e-08, step=None), 'alpha': FloatDistribution(high=10.0, log=True, low=1e-08, step=None), 'num_boost_round': IntDistribution(high=1500, log=False, low=300, step=100)}, trial_id=20, value=None),\n",
       " FrozenTrial(number=20, state=3, values=None, datetime_start=datetime.datetime(2025, 7, 31, 15, 35, 49, 335765), datetime_complete=datetime.datetime(2025, 7, 31, 15, 35, 57, 187069), params={'eta': 0.1296035972621578, 'max_depth': 11, 'min_child_weight': 16, 'subsample': 0.6675234480457631, 'colsample_bytree': 0.7018701030290455, 'gamma': 1.787834608639515, 'lambda': 1.2953335132722847e-05, 'alpha': 0.37146198362050187, 'num_boost_round': 1300}, user_attrs={}, system_attrs={}, intermediate_values={}, distributions={'eta': FloatDistribution(high=0.3, log=True, low=0.01, step=None), 'max_depth': IntDistribution(high=12, log=False, low=3, step=1), 'min_child_weight': IntDistribution(high=20, log=False, low=1, step=1), 'subsample': FloatDistribution(high=1.0, log=False, low=0.6, step=None), 'colsample_bytree': FloatDistribution(high=1.0, log=False, low=0.6, step=None), 'gamma': FloatDistribution(high=5.0, log=False, low=0.0, step=None), 'lambda': FloatDistribution(high=10.0, log=True, low=1e-08, step=None), 'alpha': FloatDistribution(high=10.0, log=True, low=1e-08, step=None), 'num_boost_round': IntDistribution(high=1500, log=False, low=300, step=100)}, trial_id=21, value=None)]"
      ]
     },
     "execution_count": 9,
     "metadata": {},
     "output_type": "execute_result"
    }
   ],
   "source": [
    "study.trials"
   ]
  },
  {
   "cell_type": "code",
   "execution_count": 5,
   "id": "47dc4de6",
   "metadata": {},
   "outputs": [],
   "source": [
    "import numpy as np\n",
    "import polars as pl\n",
    "import xgboost as xgb\n",
    "from copy import deepcopy\n",
    "from typing import List, Tuple\n",
    "\n",
    "\n",
    "# ─────────────────────────────────────────────────────────────────────────\n",
    "# 1) Train / evaluate on a subset of columns\n",
    "# ─────────────────────────────────────────────────────────────────────────\n",
    "def train_single_split_subset(\n",
    "    data_xgb: pl.DataFrame,\n",
    "    feature_cols: List[str],\n",
    "    params: dict,\n",
    "    num_boost_round: int,\n",
    "    seed: int = 42,\n",
    ") -> float:\n",
    "    \"\"\"Return hit@3 on an 80/20 group‑based split using only feature_cols.\"\"\"\n",
    "    rng = np.random.default_rng(seed)\n",
    "    groups_unique = data_xgb.select(GROUP_COL).unique().to_numpy().ravel()\n",
    "    val_groups = rng.choice(\n",
    "        groups_unique, size=max(1, int(0.2 * len(groups_unique))), replace=False\n",
    "    )\n",
    "\n",
    "    val_df   = data_xgb.filter(pl.col(GROUP_COL).is_in(val_groups))\n",
    "    train_df = data_xgb.filter(~pl.col(GROUP_COL).is_in(val_groups))\n",
    "\n",
    "    dtrain = xgb.DMatrix(\n",
    "        train_df.select(feature_cols).to_numpy(),\n",
    "        label=train_df.select(LABEL_COL).to_numpy().ravel(),\n",
    "        group=get_group_sizes(train_df.select(GROUP_COL).to_numpy().ravel()),\n",
    "        feature_names=feature_cols,\n",
    "    )\n",
    "    dval = xgb.DMatrix(\n",
    "        val_df.select(feature_cols).to_numpy(),\n",
    "        label=val_df.select(LABEL_COL).to_numpy().ravel(),\n",
    "        group=get_group_sizes(val_df.select(GROUP_COL).to_numpy().ravel()),\n",
    "        feature_names=feature_cols,\n",
    "    )\n",
    "\n",
    "    bst = xgb.train(\n",
    "        params,\n",
    "        dtrain,\n",
    "        num_boost_round=num_boost_round,\n",
    "        evals=[(dval, \"val\")],\n",
    "        early_stopping_rounds=30,\n",
    "        verbose_eval=False,\n",
    "    )\n",
    "\n",
    "    # --- hit@3 -----------------------------------------------------------\n",
    "    preds       = bst.predict(dval)\n",
    "    ranker_ids  = val_df.select(GROUP_COL).to_numpy().ravel()\n",
    "    labels      = dval.get_label()\n",
    "\n",
    "    order = np.argsort(ranker_ids, kind=\"stable\")\n",
    "    ranker_ids, labels, preds = ranker_ids[order], labels[order], preds[order]\n",
    "\n",
    "    hit_total = group_total = 0\n",
    "    i = 0\n",
    "    while i < len(ranker_ids):\n",
    "        g = ranker_ids[i]\n",
    "        j = i\n",
    "        while j < len(ranker_ids) and ranker_ids[j] == g:\n",
    "            j += 1\n",
    "        if (j - i) > 10:                       # skip tiny groups\n",
    "            top3 = np.argsort(preds[i:j])[::-1][:3]\n",
    "            hit_total += int(labels[i:j][top3].sum() > 0)\n",
    "            group_total += 1\n",
    "        i = j\n",
    "    return hit_total / group_total if group_total else 0.0\n",
    "\n",
    "\n",
    "# ─────────────────────────────────────────────────────────────────────────\n",
    "# 2) Greedy step‑forward selection\n",
    "# ─────────────────────────────────────────────────────────────────────────\n",
    "def step_forward_selection(\n",
    "    data_xgb: pl.DataFrame,\n",
    "    all_features: List[str],\n",
    "    params: dict,\n",
    "    num_boost_round: int,\n",
    "    seed: int = 42,\n",
    "    min_improvement: float = 1e-4,\n",
    ") -> Tuple[List[str], float]:\n",
    "    \"\"\"\n",
    "    Greedy SFS: start with empty set, add best column each round.\n",
    "    Stops when no remaining feature improves hit@3 by > min_improvement.\n",
    "    Returns (selected_features, best_score).\n",
    "    \"\"\"\n",
    "    remaining = set(all_features)\n",
    "    selected: List[str] = []\n",
    "    best_score = 0.0\n",
    "\n",
    "    while remaining:\n",
    "        trial_scores = {}\n",
    "        for feat in remaining:\n",
    "            score = train_single_split_subset(\n",
    "                data_xgb,\n",
    "                selected + [feat],\n",
    "                deepcopy(params),          # XGBoost mutates dict → copy!\n",
    "                num_boost_round,\n",
    "                seed,\n",
    "            )\n",
    "            trial_scores[feat] = score\n",
    "            \n",
    "        # pick the feature with the highest score\n",
    "        feat_best, score_best = max(trial_scores.items(), key=lambda kv: kv[1])\n",
    "\n",
    "        # check if it is a real improvement\n",
    "        if score_best - best_score < min_improvement:\n",
    "            print(f\"Stopping: no feature improves hit@3 by ≥{min_improvement:.1e}\")\n",
    "            break\n",
    "\n",
    "        selected.append(feat_best)\n",
    "        remaining.remove(feat_best)\n",
    "        best_score = score_best\n",
    "        print(f\"Added {feat_best:>30}  →  hit@3 = {best_score:.4f}\")\n",
    "\n",
    "    return selected, best_score\n"
   ]
  },
  {
   "cell_type": "code",
   "execution_count": 6,
   "id": "150fece4",
   "metadata": {},
   "outputs": [],
   "source": [
    "params = {\n",
    "\"objective\":   \"rank:pairwise\",\n",
    "\"eval_metric\": \"ndcg@3\",\n",
    "\"tree_method\": \"hist\",      # 🔥 much faster\n",
    "\"seed\":        42,\n",
    "\"n_jobs\":      -1,\n",
    "'eta': 0.11258528754406343,\n",
    " 'max_depth': 7,\n",
    " 'min_child_weight': 9,\n",
    " 'subsample': 0.6386911919274852,\n",
    " 'colsample_bytree': 0.8167665572930206,\n",
    " 'gamma': 3.3978723412953182,\n",
    " 'lambda': 0.0015573270572558455,\n",
    " 'alpha': 0.0007046464277948389,\n",
    " 'device': 'cuda'}"
   ]
  },
  {
   "cell_type": "code",
   "execution_count": 7,
   "id": "8ef3dd27",
   "metadata": {},
   "outputs": [
    {
     "name": "stdout",
     "output_type": "stream",
     "text": [
      "Added               opt_ticket_score  →  hit@3 = 0.5022\n",
      "Added      miniRules1_monetaryAmount  →  hit@3 = 0.5263\n",
      "Added               avg_oneway_price  →  hit@3 = 0.5383\n",
      "Added                      log_price  →  hit@3 = 0.5562\n",
      "Added                   company_freq  →  hit@3 = 0.5749\n",
      "Added       legs0_departureAt_period  →  hit@3 = 0.5813\n",
      "Added       legs1_departureAt_period  →  hit@3 = 0.5962\n"
     ]
    },
    {
     "ename": "KeyboardInterrupt",
     "evalue": "",
     "output_type": "error",
     "traceback": [
      "\u001b[31m---------------------------------------------------------------------------\u001b[39m",
      "\u001b[31mKeyboardInterrupt\u001b[39m                         Traceback (most recent call last)",
      "\u001b[36mCell\u001b[39m\u001b[36m \u001b[39m\u001b[32mIn[7]\u001b[39m\u001b[32m, line 8\u001b[39m\n\u001b[32m      1\u001b[39m data_ready = data.with_columns([\n\u001b[32m      2\u001b[39m (pl.col(c).rank(\u001b[33m\"\u001b[39m\u001b[33mdense\u001b[39m\u001b[33m\"\u001b[39m) - \u001b[32m1\u001b[39m)  \u001b[38;5;66;03m# rank starts at 1 → shift to 0\u001b[39;00m\n\u001b[32m      3\u001b[39m .fill_null(-\u001b[32m1\u001b[39m)\n\u001b[32m   (...)\u001b[39m\u001b[32m      6\u001b[39m \u001b[38;5;28;01mfor\u001b[39;00m c \u001b[38;5;129;01min\u001b[39;00m cat_features_final\n\u001b[32m      7\u001b[39m ])\n\u001b[32m----> \u001b[39m\u001b[32m8\u001b[39m chosen_feats, final_hit3 = \u001b[43mstep_forward_selection\u001b[49m\u001b[43m(\u001b[49m\n\u001b[32m      9\u001b[39m \u001b[43m     \u001b[49m\u001b[43mdata_xgb\u001b[49m\u001b[43m         \u001b[49m\u001b[43m=\u001b[49m\u001b[43m \u001b[49m\u001b[43mdata_ready\u001b[49m\u001b[43m,\u001b[49m\n\u001b[32m     10\u001b[39m \u001b[43m     \u001b[49m\u001b[43mall_features\u001b[49m\u001b[43m     \u001b[49m\u001b[43m=\u001b[49m\u001b[43m \u001b[49m\u001b[43mfeature_list\u001b[49m\u001b[43m,\u001b[49m\n\u001b[32m     11\u001b[39m \u001b[43m     \u001b[49m\u001b[43mparams\u001b[49m\u001b[43m           \u001b[49m\u001b[43m=\u001b[49m\u001b[43m \u001b[49m\u001b[43mparams\u001b[49m\u001b[43m,\u001b[49m\n\u001b[32m     12\u001b[39m \u001b[43m     \u001b[49m\u001b[43mnum_boost_round\u001b[49m\u001b[43m  \u001b[49m\u001b[43m=\u001b[49m\u001b[43m \u001b[49m\u001b[32;43m1000\u001b[39;49m\u001b[43m,\u001b[49m\n\u001b[32m     13\u001b[39m \u001b[43m     \u001b[49m\u001b[43mseed\u001b[49m\u001b[43m             \u001b[49m\u001b[43m=\u001b[49m\u001b[43m \u001b[49m\u001b[32;43m42\u001b[39;49m\u001b[43m,\u001b[49m\n\u001b[32m     14\u001b[39m \u001b[43m \u001b[49m\u001b[43m)\u001b[49m\n",
      "\u001b[36mCell\u001b[39m\u001b[36m \u001b[39m\u001b[32mIn[5]\u001b[39m\u001b[32m, line 96\u001b[39m, in \u001b[36mstep_forward_selection\u001b[39m\u001b[34m(data_xgb, all_features, params, num_boost_round, seed, min_improvement)\u001b[39m\n\u001b[32m     94\u001b[39m trial_scores = {}\n\u001b[32m     95\u001b[39m \u001b[38;5;28;01mfor\u001b[39;00m feat \u001b[38;5;129;01min\u001b[39;00m remaining:\n\u001b[32m---> \u001b[39m\u001b[32m96\u001b[39m     score = \u001b[43mtrain_single_split_subset\u001b[49m\u001b[43m(\u001b[49m\n\u001b[32m     97\u001b[39m \u001b[43m        \u001b[49m\u001b[43mdata_xgb\u001b[49m\u001b[43m,\u001b[49m\n\u001b[32m     98\u001b[39m \u001b[43m        \u001b[49m\u001b[43mselected\u001b[49m\u001b[43m \u001b[49m\u001b[43m+\u001b[49m\u001b[43m \u001b[49m\u001b[43m[\u001b[49m\u001b[43mfeat\u001b[49m\u001b[43m]\u001b[49m\u001b[43m,\u001b[49m\n\u001b[32m     99\u001b[39m \u001b[43m        \u001b[49m\u001b[43mdeepcopy\u001b[49m\u001b[43m(\u001b[49m\u001b[43mparams\u001b[49m\u001b[43m)\u001b[49m\u001b[43m,\u001b[49m\u001b[43m          \u001b[49m\u001b[38;5;66;43;03m# XGBoost mutates dict → copy!\u001b[39;49;00m\n\u001b[32m    100\u001b[39m \u001b[43m        \u001b[49m\u001b[43mnum_boost_round\u001b[49m\u001b[43m,\u001b[49m\n\u001b[32m    101\u001b[39m \u001b[43m        \u001b[49m\u001b[43mseed\u001b[49m\u001b[43m,\u001b[49m\n\u001b[32m    102\u001b[39m \u001b[43m    \u001b[49m\u001b[43m)\u001b[49m\n\u001b[32m    103\u001b[39m     trial_scores[feat] = score\n\u001b[32m    105\u001b[39m \u001b[38;5;66;03m# pick the feature with the highest score\u001b[39;00m\n",
      "\u001b[36mCell\u001b[39m\u001b[36m \u001b[39m\u001b[32mIn[5]\u001b[39m\u001b[32m, line 41\u001b[39m, in \u001b[36mtrain_single_split_subset\u001b[39m\u001b[34m(data_xgb, feature_cols, params, num_boost_round, seed)\u001b[39m\n\u001b[32m     28\u001b[39m dtrain = xgb.DMatrix(\n\u001b[32m     29\u001b[39m     train_df.select(feature_cols).to_numpy(),\n\u001b[32m     30\u001b[39m     label=train_df.select(LABEL_COL).to_numpy().ravel(),\n\u001b[32m     31\u001b[39m     group=get_group_sizes(train_df.select(GROUP_COL).to_numpy().ravel()),\n\u001b[32m     32\u001b[39m     feature_names=feature_cols,\n\u001b[32m     33\u001b[39m )\n\u001b[32m     34\u001b[39m dval = xgb.DMatrix(\n\u001b[32m     35\u001b[39m     val_df.select(feature_cols).to_numpy(),\n\u001b[32m     36\u001b[39m     label=val_df.select(LABEL_COL).to_numpy().ravel(),\n\u001b[32m     37\u001b[39m     group=get_group_sizes(val_df.select(GROUP_COL).to_numpy().ravel()),\n\u001b[32m     38\u001b[39m     feature_names=feature_cols,\n\u001b[32m     39\u001b[39m )\n\u001b[32m---> \u001b[39m\u001b[32m41\u001b[39m bst = \u001b[43mxgb\u001b[49m\u001b[43m.\u001b[49m\u001b[43mtrain\u001b[49m\u001b[43m(\u001b[49m\n\u001b[32m     42\u001b[39m \u001b[43m    \u001b[49m\u001b[43mparams\u001b[49m\u001b[43m,\u001b[49m\n\u001b[32m     43\u001b[39m \u001b[43m    \u001b[49m\u001b[43mdtrain\u001b[49m\u001b[43m,\u001b[49m\n\u001b[32m     44\u001b[39m \u001b[43m    \u001b[49m\u001b[43mnum_boost_round\u001b[49m\u001b[43m=\u001b[49m\u001b[43mnum_boost_round\u001b[49m\u001b[43m,\u001b[49m\n\u001b[32m     45\u001b[39m \u001b[43m    \u001b[49m\u001b[43mevals\u001b[49m\u001b[43m=\u001b[49m\u001b[43m[\u001b[49m\u001b[43m(\u001b[49m\u001b[43mdval\u001b[49m\u001b[43m,\u001b[49m\u001b[43m \u001b[49m\u001b[33;43m\"\u001b[39;49m\u001b[33;43mval\u001b[39;49m\u001b[33;43m\"\u001b[39;49m\u001b[43m)\u001b[49m\u001b[43m]\u001b[49m\u001b[43m,\u001b[49m\n\u001b[32m     46\u001b[39m \u001b[43m    \u001b[49m\u001b[43mearly_stopping_rounds\u001b[49m\u001b[43m=\u001b[49m\u001b[32;43m30\u001b[39;49m\u001b[43m,\u001b[49m\n\u001b[32m     47\u001b[39m \u001b[43m    \u001b[49m\u001b[43mverbose_eval\u001b[49m\u001b[43m=\u001b[49m\u001b[38;5;28;43;01mFalse\u001b[39;49;00m\u001b[43m,\u001b[49m\n\u001b[32m     48\u001b[39m \u001b[43m\u001b[49m\u001b[43m)\u001b[49m\n\u001b[32m     50\u001b[39m \u001b[38;5;66;03m# --- hit@3 -----------------------------------------------------------\u001b[39;00m\n\u001b[32m     51\u001b[39m preds       = bst.predict(dval)\n",
      "\u001b[36mFile \u001b[39m\u001b[32md:\\Work\\FlightRank 2025 Aeroclub RecSys Cup\\.venv\\Lib\\site-packages\\xgboost\\core.py:729\u001b[39m, in \u001b[36mrequire_keyword_args.<locals>.throw_if.<locals>.inner_f\u001b[39m\u001b[34m(*args, **kwargs)\u001b[39m\n\u001b[32m    727\u001b[39m \u001b[38;5;28;01mfor\u001b[39;00m k, arg \u001b[38;5;129;01min\u001b[39;00m \u001b[38;5;28mzip\u001b[39m(sig.parameters, args):\n\u001b[32m    728\u001b[39m     kwargs[k] = arg\n\u001b[32m--> \u001b[39m\u001b[32m729\u001b[39m \u001b[38;5;28;01mreturn\u001b[39;00m \u001b[43mfunc\u001b[49m\u001b[43m(\u001b[49m\u001b[43m*\u001b[49m\u001b[43m*\u001b[49m\u001b[43mkwargs\u001b[49m\u001b[43m)\u001b[49m\n",
      "\u001b[36mFile \u001b[39m\u001b[32md:\\Work\\FlightRank 2025 Aeroclub RecSys Cup\\.venv\\Lib\\site-packages\\xgboost\\training.py:184\u001b[39m, in \u001b[36mtrain\u001b[39m\u001b[34m(params, dtrain, num_boost_round, evals, obj, maximize, early_stopping_rounds, evals_result, verbose_eval, xgb_model, callbacks, custom_metric)\u001b[39m\n\u001b[32m    182\u001b[39m         \u001b[38;5;28;01mbreak\u001b[39;00m\n\u001b[32m    183\u001b[39m     bst.update(dtrain, iteration=i, fobj=obj)\n\u001b[32m--> \u001b[39m\u001b[32m184\u001b[39m     \u001b[38;5;28;01mif\u001b[39;00m \u001b[43mcb_container\u001b[49m\u001b[43m.\u001b[49m\u001b[43mafter_iteration\u001b[49m\u001b[43m(\u001b[49m\u001b[43mbst\u001b[49m\u001b[43m,\u001b[49m\u001b[43m \u001b[49m\u001b[43mi\u001b[49m\u001b[43m,\u001b[49m\u001b[43m \u001b[49m\u001b[43mdtrain\u001b[49m\u001b[43m,\u001b[49m\u001b[43m \u001b[49m\u001b[43mevals\u001b[49m\u001b[43m)\u001b[49m:\n\u001b[32m    185\u001b[39m         \u001b[38;5;28;01mbreak\u001b[39;00m\n\u001b[32m    187\u001b[39m bst = cb_container.after_training(bst)\n",
      "\u001b[36mFile \u001b[39m\u001b[32md:\\Work\\FlightRank 2025 Aeroclub RecSys Cup\\.venv\\Lib\\site-packages\\xgboost\\callback.py:264\u001b[39m, in \u001b[36mCallbackContainer.after_iteration\u001b[39m\u001b[34m(self, model, epoch, dtrain, evals)\u001b[39m\n\u001b[32m    262\u001b[39m \u001b[38;5;28;01mfor\u001b[39;00m _, name \u001b[38;5;129;01min\u001b[39;00m evals:\n\u001b[32m    263\u001b[39m     \u001b[38;5;28;01massert\u001b[39;00m name.find(\u001b[33m\"\u001b[39m\u001b[33m-\u001b[39m\u001b[33m\"\u001b[39m) == -\u001b[32m1\u001b[39m, \u001b[33m\"\u001b[39m\u001b[33mDataset name should not contain `-`\u001b[39m\u001b[33m\"\u001b[39m\n\u001b[32m--> \u001b[39m\u001b[32m264\u001b[39m score: \u001b[38;5;28mstr\u001b[39m = \u001b[43mmodel\u001b[49m\u001b[43m.\u001b[49m\u001b[43meval_set\u001b[49m\u001b[43m(\u001b[49m\u001b[43mevals\u001b[49m\u001b[43m,\u001b[49m\u001b[43m \u001b[49m\u001b[43mepoch\u001b[49m\u001b[43m,\u001b[49m\u001b[43m \u001b[49m\u001b[38;5;28;43mself\u001b[39;49m\u001b[43m.\u001b[49m\u001b[43mmetric\u001b[49m\u001b[43m,\u001b[49m\u001b[43m \u001b[49m\u001b[38;5;28;43mself\u001b[39;49m\u001b[43m.\u001b[49m\u001b[43m_output_margin\u001b[49m\u001b[43m)\u001b[49m\n\u001b[32m    265\u001b[39m metric_score = _parse_eval_str(score)\n\u001b[32m    266\u001b[39m \u001b[38;5;28mself\u001b[39m._update_history(metric_score, epoch)\n",
      "\u001b[36mFile \u001b[39m\u001b[32md:\\Work\\FlightRank 2025 Aeroclub RecSys Cup\\.venv\\Lib\\site-packages\\xgboost\\core.py:2353\u001b[39m, in \u001b[36mBooster.eval_set\u001b[39m\u001b[34m(self, evals, iteration, feval, output_margin)\u001b[39m\n\u001b[32m   2350\u001b[39m evnames = c_array(ctypes.c_char_p, [c_str(d[\u001b[32m1\u001b[39m]) \u001b[38;5;28;01mfor\u001b[39;00m d \u001b[38;5;129;01min\u001b[39;00m evals])\n\u001b[32m   2351\u001b[39m msg = ctypes.c_char_p()\n\u001b[32m   2352\u001b[39m _check_call(\n\u001b[32m-> \u001b[39m\u001b[32m2353\u001b[39m     \u001b[43m_LIB\u001b[49m\u001b[43m.\u001b[49m\u001b[43mXGBoosterEvalOneIter\u001b[49m\u001b[43m(\u001b[49m\n\u001b[32m   2354\u001b[39m \u001b[43m        \u001b[49m\u001b[38;5;28;43mself\u001b[39;49m\u001b[43m.\u001b[49m\u001b[43mhandle\u001b[49m\u001b[43m,\u001b[49m\n\u001b[32m   2355\u001b[39m \u001b[43m        \u001b[49m\u001b[43mctypes\u001b[49m\u001b[43m.\u001b[49m\u001b[43mc_int\u001b[49m\u001b[43m(\u001b[49m\u001b[43miteration\u001b[49m\u001b[43m)\u001b[49m\u001b[43m,\u001b[49m\n\u001b[32m   2356\u001b[39m \u001b[43m        \u001b[49m\u001b[43mdmats\u001b[49m\u001b[43m,\u001b[49m\n\u001b[32m   2357\u001b[39m \u001b[43m        \u001b[49m\u001b[43mevnames\u001b[49m\u001b[43m,\u001b[49m\n\u001b[32m   2358\u001b[39m \u001b[43m        \u001b[49m\u001b[43mc_bst_ulong\u001b[49m\u001b[43m(\u001b[49m\u001b[38;5;28;43mlen\u001b[39;49m\u001b[43m(\u001b[49m\u001b[43mevals\u001b[49m\u001b[43m)\u001b[49m\u001b[43m)\u001b[49m\u001b[43m,\u001b[49m\n\u001b[32m   2359\u001b[39m \u001b[43m        \u001b[49m\u001b[43mctypes\u001b[49m\u001b[43m.\u001b[49m\u001b[43mbyref\u001b[49m\u001b[43m(\u001b[49m\u001b[43mmsg\u001b[49m\u001b[43m)\u001b[49m\u001b[43m,\u001b[49m\n\u001b[32m   2360\u001b[39m \u001b[43m    \u001b[49m\u001b[43m)\u001b[49m\n\u001b[32m   2361\u001b[39m )\n\u001b[32m   2362\u001b[39m \u001b[38;5;28;01massert\u001b[39;00m msg.value \u001b[38;5;129;01mis\u001b[39;00m \u001b[38;5;129;01mnot\u001b[39;00m \u001b[38;5;28;01mNone\u001b[39;00m\n\u001b[32m   2363\u001b[39m res = msg.value.decode()  \u001b[38;5;66;03m# pylint: disable=no-member\u001b[39;00m\n",
      "\u001b[31mKeyboardInterrupt\u001b[39m: "
     ]
    }
   ],
   "source": [
    "data_ready = data.with_columns([\n",
    "(pl.col(c).rank(\"dense\") - 1)  # rank starts at 1 → shift to 0\n",
    ".fill_null(-1)\n",
    ".cast(pl.Int32)\n",
    ".alias(c)\n",
    "for c in cat_features_final\n",
    "])\n",
    "chosen_feats, final_hit3 = step_forward_selection(\n",
    "     data_xgb         = data_ready,\n",
    "     all_features     = feature_list,\n",
    "     params           = params,\n",
    "     num_boost_round  = 1000,\n",
    "     seed             = 42,\n",
    " )"
   ]
  },
  {
   "cell_type": "code",
   "execution_count": null,
   "id": "b20cb576",
   "metadata": {},
   "outputs": [],
   "source": []
  }
 ],
 "metadata": {
  "kernelspec": {
   "display_name": ".venv",
   "language": "python",
   "name": "python3"
  },
  "language_info": {
   "codemirror_mode": {
    "name": "ipython",
    "version": 3
   },
   "file_extension": ".py",
   "mimetype": "text/x-python",
   "name": "python",
   "nbconvert_exporter": "python",
   "pygments_lexer": "ipython3",
   "version": "3.13.5"
  }
 },
 "nbformat": 4,
 "nbformat_minor": 5
}
